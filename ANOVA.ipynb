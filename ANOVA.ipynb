{
 "cells": [
  {
   "cell_type": "markdown",
   "metadata": {},
   "source": [
    "# ANALYSIS OF VARIANCE : ANOVA"
   ]
  },
  {
   "cell_type": "markdown",
   "metadata": {},
   "source": [
    "- [ONE-WAY ANOVA](#One-Way-ANOVA)\n",
    "    - [Ex1](#Ex1:-Surgery-Type-&-Recovery-Time-=-Difference-?)\n",
    "    - [Ex2](#Ex2:-Income-Customers-&-Marital-Status-=-Difference-?)\n",
    "- [TWO-WAY ANOVA](#Two-Way-ANOVA)\n",
    "    - [Ex1 (Without Replication)](#Two-Way-ANONVA-without-Replication)\n",
    "    - [Ex2 (Replication)](#Two-Way-ANONVA-with-Replication)"
   ]
  },
  {
   "cell_type": "markdown",
   "metadata": {},
   "source": [
    "## Constrains\n",
    "- Normal distribution\n",
    "- Variance of each group equal\n",
    "- Each group must be independent"
   ]
  },
  {
   "cell_type": "code",
   "execution_count": 1,
   "metadata": {},
   "outputs": [],
   "source": [
    "import pandas as pd\n",
    "import numpy as np\n",
    "pd.set_option('display.max_columns', None)\n",
    "pd.set_option('display.max_rows', None)\n",
    "\n",
    "import matplotlib.pyplot as plt\n",
    "%matplotlib inline\n",
    "\n",
    "from scipy import stats\n",
    "import pingouin as pg\n",
    "#from statsmodels.stats import weightstats as stests\n",
    "import seaborn as sns\n",
    "import re"
   ]
  },
  {
   "cell_type": "markdown",
   "metadata": {},
   "source": [
    "# One-Way ANOVA"
   ]
  },
  {
   "cell_type": "markdown",
   "metadata": {},
   "source": [
    "## Ex1: Surgery Type & Recovery Time = Difference ?\n",
    "\n",
    "- $$H_0: \\mu_A = \\mu_B = \\mu_C = \\mu_D : No Difference $$ \n",
    "- $$H1: \\mu_i \\neq \\mu_j ;(i\\neq j) : Difference $$"
   ]
  },
  {
   "cell_type": "code",
   "execution_count": 2,
   "metadata": {
    "scrolled": false
   },
   "outputs": [
    {
     "data": {
      "text/html": [
       "<div>\n",
       "<style scoped>\n",
       "    .dataframe tbody tr th:only-of-type {\n",
       "        vertical-align: middle;\n",
       "    }\n",
       "\n",
       "    .dataframe tbody tr th {\n",
       "        vertical-align: top;\n",
       "    }\n",
       "\n",
       "    .dataframe thead th {\n",
       "        text-align: right;\n",
       "    }\n",
       "</style>\n",
       "<table border=\"1\" class=\"dataframe\">\n",
       "  <thead>\n",
       "    <tr style=\"text-align: right;\">\n",
       "      <th></th>\n",
       "      <th>Types</th>\n",
       "      <th>PeriodTime</th>\n",
       "    </tr>\n",
       "  </thead>\n",
       "  <tbody>\n",
       "    <tr>\n",
       "      <th>0</th>\n",
       "      <td>Type A</td>\n",
       "      <td>4</td>\n",
       "    </tr>\n",
       "    <tr>\n",
       "      <th>1</th>\n",
       "      <td>Type B</td>\n",
       "      <td>2</td>\n",
       "    </tr>\n",
       "    <tr>\n",
       "      <th>2</th>\n",
       "      <td>Type C</td>\n",
       "      <td>6</td>\n",
       "    </tr>\n",
       "    <tr>\n",
       "      <th>3</th>\n",
       "      <td>Type D</td>\n",
       "      <td>8</td>\n",
       "    </tr>\n",
       "    <tr>\n",
       "      <th>4</th>\n",
       "      <td>Type A</td>\n",
       "      <td>7</td>\n",
       "    </tr>\n",
       "  </tbody>\n",
       "</table>\n",
       "</div>"
      ],
      "text/plain": [
       "    Types  PeriodTime\n",
       "0  Type A           4\n",
       "1  Type B           2\n",
       "2  Type C           6\n",
       "3  Type D           8\n",
       "4  Type A           7"
      ]
     },
     "execution_count": 2,
     "metadata": {},
     "output_type": "execute_result"
    }
   ],
   "source": [
    "one_anova = pd.read_excel('One_ANOVA.xlsx', sheet_name='Sheet1')\n",
    "\n",
    "one_anova = pd.melt(one_anova, \n",
    "                    id_vars='วิธีผ่าตัด',\n",
    "                    value_name='PeriodTime')\n",
    "\n",
    "one_anova.drop('variable', axis=1, inplace=True)\n",
    "one_anova['วิธีผ่าตัด'] = one_anova['วิธีผ่าตัด'].map(lambda x: x.replace('ระยะพักฟื้นจากวิธีผ่าตัด ', 'Type '))\n",
    "one_anova.rename(columns = {'วิธีผ่าตัด': 'Types'}, inplace= True)\n",
    "\n",
    "one_anova.head()"
   ]
  },
  {
   "cell_type": "code",
   "execution_count": 3,
   "metadata": {
    "scrolled": false
   },
   "outputs": [
    {
     "name": "stdout",
     "output_type": "stream",
     "text": [
      "==============================[Type A]===================================\n",
      "       PeriodTime\n",
      "count    6.000000\n",
      "mean     6.500000\n",
      "std      1.643168\n",
      "min      4.000000\n",
      "25%      6.000000\n",
      "50%      6.500000\n",
      "75%      7.000000\n",
      "max      9.000000\n",
      "\n",
      "\n",
      "==============================[Type B]===================================\n",
      "       PeriodTime\n",
      "count    6.000000\n",
      "mean     3.333333\n",
      "std      1.032796\n",
      "min      2.000000\n",
      "25%      3.000000\n",
      "50%      3.000000\n",
      "75%      3.750000\n",
      "max      5.000000\n",
      "\n",
      "\n",
      "==============================[Type C]===================================\n",
      "       PeriodTime\n",
      "count    6.000000\n",
      "mean     4.166667\n",
      "std      1.471960\n",
      "min      2.000000\n",
      "25%      3.250000\n",
      "50%      4.500000\n",
      "75%      5.000000\n",
      "max      6.000000\n",
      "\n",
      "\n",
      "==============================[Type D]===================================\n",
      "       PeriodTime\n",
      "count    6.000000\n",
      "mean     5.166667\n",
      "std      2.041241\n",
      "min      2.000000\n",
      "25%      4.250000\n",
      "50%      5.500000\n",
      "75%      6.000000\n",
      "max      8.000000\n",
      "\n",
      "\n"
     ]
    }
   ],
   "source": [
    "# descriptive statistic\n",
    "for i in one_anova['Types'].unique():\n",
    "    print(f'==============================[{i}]===================================')\n",
    "    print(one_anova[one_anova['Types'] == i].describe())\n",
    "    print('\\n')"
   ]
  },
  {
   "cell_type": "markdown",
   "metadata": {},
   "source": [
    "### Explore Types of Surgery with Recovery Time"
   ]
  },
  {
   "cell_type": "code",
   "execution_count": 4,
   "metadata": {
    "scrolled": false
   },
   "outputs": [
    {
     "data": {
      "image/png": "[encoded data removed]",
      "text/plain": [
       "<Figure size 720x576 with 1 Axes>"
      ]
     },
     "metadata": {
      "needs_background": "light"
     },
     "output_type": "display_data"
    },
    {
     "data": {
      "image/png": "[encoded data removed]",
      "text/plain": [
       "<Figure size 864x216 with 4 Axes>"
      ]
     },
     "metadata": {
      "needs_background": "light"
     },
     "output_type": "display_data"
    }
   ],
   "source": [
    "plt.figure(figsize = (10,8))\n",
    "sns.boxplot(x='Types', y='PeriodTime', data=one_anova);\n",
    "g = sns.FacetGrid(one_anova, col='Types', hue=\"Types\", palette=\"Set1\")\n",
    "g = g.map(sns.distplot, \"PeriodTime\", hist=False, rug=True);"
   ]
  },
  {
   "cell_type": "markdown",
   "metadata": {},
   "source": [
    "### Check Variance"
   ]
  },
  {
   "cell_type": "code",
   "execution_count": 5,
   "metadata": {
    "scrolled": true
   },
   "outputs": [
    {
     "data": {
      "text/plain": [
       "LeveneResult(statistic=0.7083333333333335, pvalue=0.5583002166087917)"
      ]
     },
     "execution_count": 5,
     "metadata": {},
     "output_type": "execute_result"
    }
   ],
   "source": [
    "stats.levene(one_anova[one_anova['Types'] == 'Type A']['PeriodTime'],\n",
    "             one_anova[one_anova['Types'] == 'Type B']['PeriodTime'],\n",
    "             one_anova[one_anova['Types'] == 'Type C']['PeriodTime'],\n",
    "             one_anova[one_anova['Types'] == 'Type D']['PeriodTime'])"
   ]
  },
  {
   "cell_type": "code",
   "execution_count": 6,
   "metadata": {},
   "outputs": [],
   "source": [
    "import statsmodels.api as sm\n",
    "from statsmodels.formula.api import ols"
   ]
  },
  {
   "cell_type": "code",
   "execution_count": 7,
   "metadata": {
    "scrolled": false
   },
   "outputs": [
    {
     "data": {
      "text/html": [
       "<table class=\"simpletable\">\n",
       "<caption>OLS Regression Results</caption>\n",
       "<tr>\n",
       "  <th>Dep. Variable:</th>       <td>PeriodTime</td>    <th>  R-squared:         </th> <td>   0.399</td>\n",
       "</tr>\n",
       "<tr>\n",
       "  <th>Model:</th>                   <td>OLS</td>       <th>  Adj. R-squared:    </th> <td>   0.308</td>\n",
       "</tr>\n",
       "<tr>\n",
       "  <th>Method:</th>             <td>Least Squares</td>  <th>  F-statistic:       </th> <td>   4.417</td>\n",
       "</tr>\n",
       "<tr>\n",
       "  <th>Date:</th>             <td>Wed, 24 Jul 2019</td> <th>  Prob (F-statistic):</th>  <td>0.0154</td> \n",
       "</tr>\n",
       "<tr>\n",
       "  <th>Time:</th>                 <td>19:58:18</td>     <th>  Log-Likelihood:    </th> <td> -42.982</td>\n",
       "</tr>\n",
       "<tr>\n",
       "  <th>No. Observations:</th>      <td>    24</td>      <th>  AIC:               </th> <td>   93.96</td>\n",
       "</tr>\n",
       "<tr>\n",
       "  <th>Df Residuals:</th>          <td>    20</td>      <th>  BIC:               </th> <td>   98.68</td>\n",
       "</tr>\n",
       "<tr>\n",
       "  <th>Df Model:</th>              <td>     3</td>      <th>                     </th>     <td> </td>   \n",
       "</tr>\n",
       "<tr>\n",
       "  <th>Covariance Type:</th>      <td>nonrobust</td>    <th>                     </th>     <td> </td>   \n",
       "</tr>\n",
       "</table>\n",
       "<table class=\"simpletable\">\n",
       "<tr>\n",
       "           <td></td>             <th>coef</th>     <th>std err</th>      <th>t</th>      <th>P>|t|</th>  <th>[0.025</th>    <th>0.975]</th>  \n",
       "</tr>\n",
       "<tr>\n",
       "  <th>Intercept</th>          <td>    6.5000</td> <td>    0.649</td> <td>   10.020</td> <td> 0.000</td> <td>    5.147</td> <td>    7.853</td>\n",
       "</tr>\n",
       "<tr>\n",
       "  <th>C(Types)[T.Type B]</th> <td>   -3.1667</td> <td>    0.917</td> <td>   -3.452</td> <td> 0.003</td> <td>   -5.080</td> <td>   -1.253</td>\n",
       "</tr>\n",
       "<tr>\n",
       "  <th>C(Types)[T.Type C]</th> <td>   -2.3333</td> <td>    0.917</td> <td>   -2.543</td> <td> 0.019</td> <td>   -4.247</td> <td>   -0.420</td>\n",
       "</tr>\n",
       "<tr>\n",
       "  <th>C(Types)[T.Type D]</th> <td>   -1.3333</td> <td>    0.917</td> <td>   -1.453</td> <td> 0.162</td> <td>   -3.247</td> <td>    0.580</td>\n",
       "</tr>\n",
       "</table>\n",
       "<table class=\"simpletable\">\n",
       "<tr>\n",
       "  <th>Omnibus:</th>       <td> 0.196</td> <th>  Durbin-Watson:     </th> <td>   1.424</td>\n",
       "</tr>\n",
       "<tr>\n",
       "  <th>Prob(Omnibus):</th> <td> 0.907</td> <th>  Jarque-Bera (JB):  </th> <td>   0.154</td>\n",
       "</tr>\n",
       "<tr>\n",
       "  <th>Skew:</th>          <td>-0.156</td> <th>  Prob(JB):          </th> <td>   0.926</td>\n",
       "</tr>\n",
       "<tr>\n",
       "  <th>Kurtosis:</th>      <td> 2.762</td> <th>  Cond. No.          </th> <td>    4.79</td>\n",
       "</tr>\n",
       "</table><br/><br/>Warnings:<br/>[1] Standard Errors assume that the covariance matrix of the errors is correctly specified."
      ],
      "text/plain": [
       "<class 'statsmodels.iolib.summary.Summary'>\n",
       "\"\"\"\n",
       "                            OLS Regression Results                            \n",
       "==============================================================================\n",
       "Dep. Variable:             PeriodTime   R-squared:                       0.399\n",
       "Model:                            OLS   Adj. R-squared:                  0.308\n",
       "Method:                 Least Squares   F-statistic:                     4.417\n",
       "Date:                Wed, 24 Jul 2019   Prob (F-statistic):             0.0154\n",
       "Time:                        19:58:18   Log-Likelihood:                -42.982\n",
       "No. Observations:                  24   AIC:                             93.96\n",
       "Df Residuals:                      20   BIC:                             98.68\n",
       "Df Model:                           3                                         \n",
       "Covariance Type:            nonrobust                                         \n",
       "======================================================================================\n",
       "                         coef    std err          t      P>|t|      [0.025      0.975]\n",
       "--------------------------------------------------------------------------------------\n",
       "Intercept              6.5000      0.649     10.020      0.000       5.147       7.853\n",
       "C(Types)[T.Type B]    -3.1667      0.917     -3.452      0.003      -5.080      -1.253\n",
       "C(Types)[T.Type C]    -2.3333      0.917     -2.543      0.019      -4.247      -0.420\n",
       "C(Types)[T.Type D]    -1.3333      0.917     -1.453      0.162      -3.247       0.580\n",
       "==============================================================================\n",
       "Omnibus:                        0.196   Durbin-Watson:                   1.424\n",
       "Prob(Omnibus):                  0.907   Jarque-Bera (JB):                0.154\n",
       "Skew:                          -0.156   Prob(JB):                        0.926\n",
       "Kurtosis:                       2.762   Cond. No.                         4.79\n",
       "==============================================================================\n",
       "\n",
       "Warnings:\n",
       "[1] Standard Errors assume that the covariance matrix of the errors is correctly specified.\n",
       "\"\"\""
      ]
     },
     "execution_count": 7,
     "metadata": {},
     "output_type": "execute_result"
    }
   ],
   "source": [
    "results = ols('PeriodTime ~ C(Types)', data=one_anova).fit()\n",
    "results.summary()"
   ]
  },
  {
   "cell_type": "markdown",
   "metadata": {},
   "source": [
    "## One-Way ANOVA"
   ]
  },
  {
   "cell_type": "code",
   "execution_count": 8,
   "metadata": {
    "scrolled": true
   },
   "outputs": [],
   "source": [
    "def anova_table(model):\n",
    "    anova_table = pd.DataFrame(sm.stats.anova_lm(model, typ=2))\n",
    "    anova_table['F-Crit'] = None\n",
    "    anova_table.iloc[0, -1] = stats.f.ppf(0.95, anova_table.iloc[0,1], anova_table.iloc[1,1])\n",
    "    anova_table.index = ['Between Groups', ' Within Groups']\n",
    "    \n",
    "    print('========================================================[F-Test]=================================================')\n",
    "    \n",
    "    f_value = anova_table.iloc[0,2]\n",
    "    f_crit = anova_table.iloc[0,-1]\n",
    "    print(f'F-Test: {f_value}')\n",
    "    print(f'F-Critical: {f_crit}')\n",
    "    \n",
    "    if f_value > f_crit:\n",
    "        print(\"Reject Null Hypothesis(H0)\")\n",
    "    else:\n",
    "        print(\"Accept Null Hypothesis(H0)\")\n",
    "    \n",
    "    print('\\n')   \n",
    "    \n",
    "    \n",
    "    print('========================================================[P-Value]================================================')\n",
    "    \n",
    "    p_value = anova_table.iloc[0,3]\n",
    "    print(f'P-Value: {p_value}')\n",
    "    \n",
    "    if p_value < 0.05:\n",
    "            print(\"Reject Null Hypothesis(H0)\")\n",
    "    else:\n",
    "            print(\"Accept Null Hypothesis(H0)\")\n",
    "            \n",
    "    return anova_table"
   ]
  },
  {
   "cell_type": "code",
   "execution_count": 9,
   "metadata": {
    "scrolled": true
   },
   "outputs": [
    {
     "name": "stdout",
     "output_type": "stream",
     "text": [
      "========================================================[F-Test]=================================================\n",
      "F-Test: 4.416941694169424\n",
      "F-Critical: 3.09839121214078\n",
      "Reject Null Hypothesis(H0)\n",
      "\n",
      "\n",
      "========================================================[P-Value]================================================\n",
      "P-Value: 0.015417685555399966\n",
      "Reject Null Hypothesis(H0)\n"
     ]
    },
    {
     "data": {
      "text/html": [
       "<div>\n",
       "<style scoped>\n",
       "    .dataframe tbody tr th:only-of-type {\n",
       "        vertical-align: middle;\n",
       "    }\n",
       "\n",
       "    .dataframe tbody tr th {\n",
       "        vertical-align: top;\n",
       "    }\n",
       "\n",
       "    .dataframe thead th {\n",
       "        text-align: right;\n",
       "    }\n",
       "</style>\n",
       "<table border=\"1\" class=\"dataframe\">\n",
       "  <thead>\n",
       "    <tr style=\"text-align: right;\">\n",
       "      <th></th>\n",
       "      <th>sum_sq</th>\n",
       "      <th>df</th>\n",
       "      <th>F</th>\n",
       "      <th>PR(&gt;F)</th>\n",
       "      <th>F-Crit</th>\n",
       "    </tr>\n",
       "  </thead>\n",
       "  <tbody>\n",
       "    <tr>\n",
       "      <th>Between Groups</th>\n",
       "      <td>33.458333</td>\n",
       "      <td>3.0</td>\n",
       "      <td>4.416942</td>\n",
       "      <td>0.015418</td>\n",
       "      <td>3.09839</td>\n",
       "    </tr>\n",
       "    <tr>\n",
       "      <th>Within Groups</th>\n",
       "      <td>50.500000</td>\n",
       "      <td>20.0</td>\n",
       "      <td>NaN</td>\n",
       "      <td>NaN</td>\n",
       "      <td>None</td>\n",
       "    </tr>\n",
       "  </tbody>\n",
       "</table>\n",
       "</div>"
      ],
      "text/plain": [
       "                   sum_sq    df         F    PR(>F)   F-Crit\n",
       "Between Groups  33.458333   3.0  4.416942  0.015418  3.09839\n",
       " Within Groups  50.500000  20.0       NaN       NaN     None"
      ]
     },
     "execution_count": 9,
     "metadata": {},
     "output_type": "execute_result"
    }
   ],
   "source": [
    "anova_table(results)"
   ]
  },
  {
   "cell_type": "markdown",
   "metadata": {},
   "source": [
    "### Conclusion\n",
    "Question : Surgery Type & Recovery Time = Difference ?\n",
    "\n",
    "- Reject Null Hypothesis(H0) >>> Surgery Type & Recovery Time = Difference (H1)\n"
   ]
  },
  {
   "cell_type": "markdown",
   "metadata": {},
   "source": [
    "----"
   ]
  },
  {
   "cell_type": "markdown",
   "metadata": {},
   "source": [
    "## Ex2: Income Customers & Marital Status = Difference ?\n",
    "\n",
    "- $$H_0: \\mu_A = \\mu_B = \\mu_C = \\mu_D : No Difference $$ \n",
    "- $$H1: \\mu_i \\neq \\mu_j ;(i\\neq j) : Difference $$"
   ]
  },
  {
   "cell_type": "code",
   "execution_count": 10,
   "metadata": {
    "scrolled": true
   },
   "outputs": [
    {
     "data": {
      "text/html": [
       "<div>\n",
       "<style scoped>\n",
       "    .dataframe tbody tr th:only-of-type {\n",
       "        vertical-align: middle;\n",
       "    }\n",
       "\n",
       "    .dataframe tbody tr th {\n",
       "        vertical-align: top;\n",
       "    }\n",
       "\n",
       "    .dataframe thead th {\n",
       "        text-align: right;\n",
       "    }\n",
       "</style>\n",
       "<table border=\"1\" class=\"dataframe\">\n",
       "  <thead>\n",
       "    <tr style=\"text-align: right;\">\n",
       "      <th></th>\n",
       "      <th>salary</th>\n",
       "      <th>status</th>\n",
       "    </tr>\n",
       "  </thead>\n",
       "  <tbody>\n",
       "    <tr>\n",
       "      <th>0</th>\n",
       "      <td>3000</td>\n",
       "      <td>Single</td>\n",
       "    </tr>\n",
       "    <tr>\n",
       "      <th>1</th>\n",
       "      <td>4000</td>\n",
       "      <td>Single</td>\n",
       "    </tr>\n",
       "    <tr>\n",
       "      <th>2</th>\n",
       "      <td>87000</td>\n",
       "      <td>Marriage</td>\n",
       "    </tr>\n",
       "    <tr>\n",
       "      <th>3</th>\n",
       "      <td>9500</td>\n",
       "      <td>Marriage</td>\n",
       "    </tr>\n",
       "    <tr>\n",
       "      <th>4</th>\n",
       "      <td>8000</td>\n",
       "      <td>Marriage</td>\n",
       "    </tr>\n",
       "  </tbody>\n",
       "</table>\n",
       "</div>"
      ],
      "text/plain": [
       "   salary    status\n",
       "0    3000    Single\n",
       "1    4000    Single\n",
       "2   87000  Marriage\n",
       "3    9500  Marriage\n",
       "4    8000  Marriage"
      ]
     },
     "execution_count": 10,
     "metadata": {},
     "output_type": "execute_result"
    }
   ],
   "source": [
    "one_anova2 = pd.read_excel('One-Way ANOVA2.xlsx', sheet_name='ตาราง C', skiprows=1)\n",
    "one_anova2.drop('Unnamed: 0', axis=1 ,inplace=True)\n",
    "one_anova2 = one_anova2[['salary', 'status']]\n",
    "one_anova2['status'] = one_anova2['status'].map({'โสด':'Single', 'สมรส':'Marriage', 'แยกกันอยู่':'Separated', 'ม่าย':'Widow'})\n",
    "one_anova2.head()"
   ]
  },
  {
   "cell_type": "code",
   "execution_count": 11,
   "metadata": {
    "scrolled": false
   },
   "outputs": [
    {
     "name": "stdout",
     "output_type": "stream",
     "text": [
      "==============================[Single]===================================\n",
      "             salary\n",
      "count     29.000000\n",
      "mean    8855.172414\n",
      "std     5720.613492\n",
      "min     2000.000000\n",
      "25%     5700.000000\n",
      "50%     8000.000000\n",
      "75%     9500.000000\n",
      "max    31000.000000\n",
      "\n",
      "\n",
      "==============================[Marriage]===================================\n",
      "             salary\n",
      "count     55.000000\n",
      "mean   12281.818182\n",
      "std    10978.060459\n",
      "min     7000.000000\n",
      "25%     8000.000000\n",
      "50%     9500.000000\n",
      "75%    14000.000000\n",
      "max    87000.000000\n",
      "\n",
      "\n",
      "==============================[Separated]===================================\n",
      "             salary\n",
      "count     14.000000\n",
      "mean   11457.142857\n",
      "std     4531.040683\n",
      "min     8000.000000\n",
      "25%     8625.000000\n",
      "50%     9800.000000\n",
      "75%    13750.000000\n",
      "max    25000.000000\n",
      "\n",
      "\n",
      "==============================[Widow]===================================\n",
      "            salary\n",
      "count     2.000000\n",
      "mean   8400.000000\n",
      "std    1979.898987\n",
      "min    7000.000000\n",
      "25%    7700.000000\n",
      "50%    8400.000000\n",
      "75%    9100.000000\n",
      "max    9800.000000\n",
      "\n",
      "\n"
     ]
    }
   ],
   "source": [
    "# descriptive statistic\n",
    "for i in one_anova2['status'].unique():\n",
    "    print(f'==============================[{i}]===================================')\n",
    "    print(one_anova2[one_anova2['status'] == i].describe())\n",
    "    print('\\n')"
   ]
  },
  {
   "cell_type": "markdown",
   "metadata": {},
   "source": [
    "### Explore Status with Salary"
   ]
  },
  {
   "cell_type": "code",
   "execution_count": 12,
   "metadata": {
    "scrolled": false
   },
   "outputs": [
    {
     "data": {
      "image/png": "[encoded data removed]",
      "text/plain": [
       "<Figure size 720x360 with 1 Axes>"
      ]
     },
     "metadata": {
      "needs_background": "light"
     },
     "output_type": "display_data"
    },
    {
     "data": {
      "image/png": "[encoded data removed]",
      "text/plain": [
       "<Figure size 864x216 with 4 Axes>"
      ]
     },
     "metadata": {
      "needs_background": "light"
     },
     "output_type": "display_data"
    }
   ],
   "source": [
    "plt.figure(figsize=(10, 5))\n",
    "sns.boxplot(x='status', y='salary', data=one_anova2);\n",
    "g = sns.FacetGrid(data=one_anova2, col='status', hue='status', palette='Set1')\n",
    "g = g.map(sns.distplot, 'salary', hist=False, rug=True);"
   ]
  },
  {
   "cell_type": "markdown",
   "metadata": {},
   "source": [
    "### Check Variance"
   ]
  },
  {
   "cell_type": "code",
   "execution_count": 13,
   "metadata": {
    "scrolled": true
   },
   "outputs": [
    {
     "data": {
      "text/plain": [
       "LeveneResult(statistic=0.14368326803875991, pvalue=0.9334890819652939)"
      ]
     },
     "execution_count": 13,
     "metadata": {},
     "output_type": "execute_result"
    }
   ],
   "source": [
    "stats.levene(one_anova2[one_anova2['status'] == 'Single']['salary'],\n",
    "              one_anova2[one_anova2['status'] == 'Marriage']['salary'],\n",
    "              one_anova2[one_anova2['status'] == 'Separated']['salary'],\n",
    "              one_anova2[one_anova2['status'] == 'Widow']['salary'])"
   ]
  },
  {
   "cell_type": "code",
   "execution_count": 14,
   "metadata": {
    "scrolled": false
   },
   "outputs": [
    {
     "data": {
      "text/html": [
       "<table class=\"simpletable\">\n",
       "<caption>OLS Regression Results</caption>\n",
       "<tr>\n",
       "  <th>Dep. Variable:</th>         <td>salary</td>      <th>  R-squared:         </th> <td>   0.030</td>\n",
       "</tr>\n",
       "<tr>\n",
       "  <th>Model:</th>                   <td>OLS</td>       <th>  Adj. R-squared:    </th> <td>  -0.000</td>\n",
       "</tr>\n",
       "<tr>\n",
       "  <th>Method:</th>             <td>Least Squares</td>  <th>  F-statistic:       </th> <td>  0.9952</td>\n",
       "</tr>\n",
       "<tr>\n",
       "  <th>Date:</th>             <td>Wed, 24 Jul 2019</td> <th>  Prob (F-statistic):</th>  <td> 0.399</td> \n",
       "</tr>\n",
       "<tr>\n",
       "  <th>Time:</th>                 <td>20:00:20</td>     <th>  Log-Likelihood:    </th> <td> -1049.8</td>\n",
       "</tr>\n",
       "<tr>\n",
       "  <th>No. Observations:</th>      <td>   100</td>      <th>  AIC:               </th> <td>   2108.</td>\n",
       "</tr>\n",
       "<tr>\n",
       "  <th>Df Residuals:</th>          <td>    96</td>      <th>  BIC:               </th> <td>   2118.</td>\n",
       "</tr>\n",
       "<tr>\n",
       "  <th>Df Model:</th>              <td>     3</td>      <th>                     </th>     <td> </td>   \n",
       "</tr>\n",
       "<tr>\n",
       "  <th>Covariance Type:</th>      <td>nonrobust</td>    <th>                     </th>     <td> </td>   \n",
       "</tr>\n",
       "</table>\n",
       "<table class=\"simpletable\">\n",
       "<tr>\n",
       "             <td></td>               <th>coef</th>     <th>std err</th>      <th>t</th>      <th>P>|t|</th>  <th>[0.025</th>    <th>0.975]</th>  \n",
       "</tr>\n",
       "<tr>\n",
       "  <th>Intercept</th>              <td> 1.228e+04</td> <td> 1207.229</td> <td>   10.174</td> <td> 0.000</td> <td> 9885.487</td> <td> 1.47e+04</td>\n",
       "</tr>\n",
       "<tr>\n",
       "  <th>C(status)[T.Separated]</th> <td> -824.6753</td> <td> 2680.096</td> <td>   -0.308</td> <td> 0.759</td> <td>-6144.624</td> <td> 4495.273</td>\n",
       "</tr>\n",
       "<tr>\n",
       "  <th>C(status)[T.Single]</th>    <td>-3426.6458</td> <td> 2054.615</td> <td>   -1.668</td> <td> 0.099</td> <td>-7505.024</td> <td>  651.733</td>\n",
       "</tr>\n",
       "<tr>\n",
       "  <th>C(status)[T.Widow]</th>     <td>-3881.8182</td> <td> 6444.842</td> <td>   -0.602</td> <td> 0.548</td> <td>-1.67e+04</td> <td> 8911.092</td>\n",
       "</tr>\n",
       "</table>\n",
       "<table class=\"simpletable\">\n",
       "<tr>\n",
       "  <th>Omnibus:</th>       <td>167.854</td> <th>  Durbin-Watson:     </th> <td>   2.227</td> \n",
       "</tr>\n",
       "<tr>\n",
       "  <th>Prob(Omnibus):</th> <td> 0.000</td>  <th>  Jarque-Bera (JB):  </th> <td>11188.195</td>\n",
       "</tr>\n",
       "<tr>\n",
       "  <th>Skew:</th>          <td> 6.403</td>  <th>  Prob(JB):          </th> <td>    0.00</td> \n",
       "</tr>\n",
       "<tr>\n",
       "  <th>Kurtosis:</th>      <td>53.211</td>  <th>  Cond. No.          </th> <td>    7.64</td> \n",
       "</tr>\n",
       "</table><br/><br/>Warnings:<br/>[1] Standard Errors assume that the covariance matrix of the errors is correctly specified."
      ],
      "text/plain": [
       "<class 'statsmodels.iolib.summary.Summary'>\n",
       "\"\"\"\n",
       "                            OLS Regression Results                            \n",
       "==============================================================================\n",
       "Dep. Variable:                 salary   R-squared:                       0.030\n",
       "Model:                            OLS   Adj. R-squared:                 -0.000\n",
       "Method:                 Least Squares   F-statistic:                    0.9952\n",
       "Date:                Wed, 24 Jul 2019   Prob (F-statistic):              0.399\n",
       "Time:                        20:00:20   Log-Likelihood:                -1049.8\n",
       "No. Observations:                 100   AIC:                             2108.\n",
       "Df Residuals:                      96   BIC:                             2118.\n",
       "Df Model:                           3                                         \n",
       "Covariance Type:            nonrobust                                         \n",
       "==========================================================================================\n",
       "                             coef    std err          t      P>|t|      [0.025      0.975]\n",
       "------------------------------------------------------------------------------------------\n",
       "Intercept               1.228e+04   1207.229     10.174      0.000    9885.487    1.47e+04\n",
       "C(status)[T.Separated]  -824.6753   2680.096     -0.308      0.759   -6144.624    4495.273\n",
       "C(status)[T.Single]    -3426.6458   2054.615     -1.668      0.099   -7505.024     651.733\n",
       "C(status)[T.Widow]     -3881.8182   6444.842     -0.602      0.548   -1.67e+04    8911.092\n",
       "==============================================================================\n",
       "Omnibus:                      167.854   Durbin-Watson:                   2.227\n",
       "Prob(Omnibus):                  0.000   Jarque-Bera (JB):            11188.195\n",
       "Skew:                           6.403   Prob(JB):                         0.00\n",
       "Kurtosis:                      53.211   Cond. No.                         7.64\n",
       "==============================================================================\n",
       "\n",
       "Warnings:\n",
       "[1] Standard Errors assume that the covariance matrix of the errors is correctly specified.\n",
       "\"\"\""
      ]
     },
     "execution_count": 14,
     "metadata": {},
     "output_type": "execute_result"
    }
   ],
   "source": [
    "results2 = ols('salary ~ C(status)', data=one_anova2).fit()\n",
    "results2.summary()"
   ]
  },
  {
   "cell_type": "markdown",
   "metadata": {},
   "source": [
    "## One-Way ANOVA"
   ]
  },
  {
   "cell_type": "code",
   "execution_count": 15,
   "metadata": {
    "scrolled": true
   },
   "outputs": [
    {
     "name": "stdout",
     "output_type": "stream",
     "text": [
      "========================================================[F-Test]=================================================\n",
      "F-Test: 0.9952101488707034\n",
      "F-Critical: 2.6993925975521815\n",
      "Accept Null Hypothesis(H0)\n",
      "\n",
      "\n",
      "========================================================[P-Value]================================================\n",
      "P-Value: 0.3985603451246772\n",
      "Accept Null Hypothesis(H0)\n"
     ]
    },
    {
     "data": {
      "text/html": [
       "<div>\n",
       "<style scoped>\n",
       "    .dataframe tbody tr th:only-of-type {\n",
       "        vertical-align: middle;\n",
       "    }\n",
       "\n",
       "    .dataframe tbody tr th {\n",
       "        vertical-align: top;\n",
       "    }\n",
       "\n",
       "    .dataframe thead th {\n",
       "        text-align: right;\n",
       "    }\n",
       "</style>\n",
       "<table border=\"1\" class=\"dataframe\">\n",
       "  <thead>\n",
       "    <tr style=\"text-align: right;\">\n",
       "      <th></th>\n",
       "      <th>sum_sq</th>\n",
       "      <th>df</th>\n",
       "      <th>F</th>\n",
       "      <th>PR(&gt;F)</th>\n",
       "      <th>F-Crit</th>\n",
       "    </tr>\n",
       "  </thead>\n",
       "  <tbody>\n",
       "    <tr>\n",
       "      <th>Between Groups</th>\n",
       "      <td>2.393197e+08</td>\n",
       "      <td>3.0</td>\n",
       "      <td>0.99521</td>\n",
       "      <td>0.39856</td>\n",
       "      <td>2.69939</td>\n",
       "    </tr>\n",
       "    <tr>\n",
       "      <th>Within Groups</th>\n",
       "      <td>7.695088e+09</td>\n",
       "      <td>96.0</td>\n",
       "      <td>NaN</td>\n",
       "      <td>NaN</td>\n",
       "      <td>None</td>\n",
       "    </tr>\n",
       "  </tbody>\n",
       "</table>\n",
       "</div>"
      ],
      "text/plain": [
       "                      sum_sq    df        F   PR(>F)   F-Crit\n",
       "Between Groups  2.393197e+08   3.0  0.99521  0.39856  2.69939\n",
       " Within Groups  7.695088e+09  96.0      NaN      NaN     None"
      ]
     },
     "execution_count": 15,
     "metadata": {},
     "output_type": "execute_result"
    }
   ],
   "source": [
    "anova_table(results2)"
   ]
  },
  {
   "cell_type": "markdown",
   "metadata": {},
   "source": [
    "### Conclusion\n",
    "Question : Income Customers & Marital Status = Difference ?\n",
    "\n",
    "- Accept Null Hypothesis(H0) >>> Income Customers & Marital Status = No Difference ? (H0)\n"
   ]
  },
  {
   "cell_type": "markdown",
   "metadata": {},
   "source": [
    "---"
   ]
  },
  {
   "cell_type": "markdown",
   "metadata": {},
   "source": [
    "# Two-Way ANOVA"
   ]
  },
  {
   "cell_type": "markdown",
   "metadata": {},
   "source": [
    "# Two-Way ANONVA without Replication"
   ]
  },
  {
   "cell_type": "markdown",
   "metadata": {},
   "source": [
    "## Ex1:  Income from 5 products & 3 Sources  =  Difference ?\n",
    "\n",
    "### 1 HYPOTHESIS : Incomes & 3 Sources\n",
    "- $$ H_0: \\mu_1 = \\mu_2 = \\mu_3 : No Difference $$ \n",
    "- $$ H1: \\mu_i \\neq \\mu_j ;(i\\neq j) : Difference $$\n",
    "\n",
    "### 2 HYPOTHESIS : Incomes & 5 Products\n",
    "- $$ H_0: \\mu_1 = \\mu_2 = \\mu_3 = \\mu_4 = \\mu_5 : No Difference $$ \n",
    "- $$ H1: \\mu_i \\neq \\mu_j ;(i\\neq j) : Difference $$"
   ]
  },
  {
   "cell_type": "code",
   "execution_count": 16,
   "metadata": {
    "scrolled": false
   },
   "outputs": [
    {
     "data": {
      "text/html": [
       "<div>\n",
       "<style scoped>\n",
       "    .dataframe tbody tr th:only-of-type {\n",
       "        vertical-align: middle;\n",
       "    }\n",
       "\n",
       "    .dataframe tbody tr th {\n",
       "        vertical-align: top;\n",
       "    }\n",
       "\n",
       "    .dataframe thead th {\n",
       "        text-align: right;\n",
       "    }\n",
       "</style>\n",
       "<table border=\"1\" class=\"dataframe\">\n",
       "  <thead>\n",
       "    <tr style=\"text-align: right;\">\n",
       "      <th></th>\n",
       "      <th>Source</th>\n",
       "      <th>ProductTypes</th>\n",
       "      <th>Value</th>\n",
       "    </tr>\n",
       "  </thead>\n",
       "  <tbody>\n",
       "    <tr>\n",
       "      <th>0</th>\n",
       "      <td>landmark</td>\n",
       "      <td>A</td>\n",
       "      <td>2</td>\n",
       "    </tr>\n",
       "    <tr>\n",
       "      <th>1</th>\n",
       "      <td>landmark</td>\n",
       "      <td>B</td>\n",
       "      <td>3</td>\n",
       "    </tr>\n",
       "    <tr>\n",
       "      <th>2</th>\n",
       "      <td>landmark</td>\n",
       "      <td>C</td>\n",
       "      <td>4</td>\n",
       "    </tr>\n",
       "    <tr>\n",
       "      <th>3</th>\n",
       "      <td>landmark</td>\n",
       "      <td>D</td>\n",
       "      <td>5</td>\n",
       "    </tr>\n",
       "    <tr>\n",
       "      <th>4</th>\n",
       "      <td>landmark</td>\n",
       "      <td>E</td>\n",
       "      <td>2</td>\n",
       "    </tr>\n",
       "    <tr>\n",
       "      <th>5</th>\n",
       "      <td>Convenience Store</td>\n",
       "      <td>A</td>\n",
       "      <td>3</td>\n",
       "    </tr>\n",
       "    <tr>\n",
       "      <th>6</th>\n",
       "      <td>Convenience Store</td>\n",
       "      <td>B</td>\n",
       "      <td>6</td>\n",
       "    </tr>\n",
       "    <tr>\n",
       "      <th>7</th>\n",
       "      <td>Convenience Store</td>\n",
       "      <td>C</td>\n",
       "      <td>3</td>\n",
       "    </tr>\n",
       "    <tr>\n",
       "      <th>8</th>\n",
       "      <td>Convenience Store</td>\n",
       "      <td>D</td>\n",
       "      <td>5</td>\n",
       "    </tr>\n",
       "    <tr>\n",
       "      <th>9</th>\n",
       "      <td>Convenience Store</td>\n",
       "      <td>E</td>\n",
       "      <td>3</td>\n",
       "    </tr>\n",
       "    <tr>\n",
       "      <th>10</th>\n",
       "      <td>Thong Fah Pracharath Shop</td>\n",
       "      <td>A</td>\n",
       "      <td>6</td>\n",
       "    </tr>\n",
       "    <tr>\n",
       "      <th>11</th>\n",
       "      <td>Thong Fah Pracharath Shop</td>\n",
       "      <td>B</td>\n",
       "      <td>5</td>\n",
       "    </tr>\n",
       "    <tr>\n",
       "      <th>12</th>\n",
       "      <td>Thong Fah Pracharath Shop</td>\n",
       "      <td>C</td>\n",
       "      <td>7</td>\n",
       "    </tr>\n",
       "    <tr>\n",
       "      <th>13</th>\n",
       "      <td>Thong Fah Pracharath Shop</td>\n",
       "      <td>D</td>\n",
       "      <td>6</td>\n",
       "    </tr>\n",
       "    <tr>\n",
       "      <th>14</th>\n",
       "      <td>Thong Fah Pracharath Shop</td>\n",
       "      <td>E</td>\n",
       "      <td>8</td>\n",
       "    </tr>\n",
       "  </tbody>\n",
       "</table>\n",
       "</div>"
      ],
      "text/plain": [
       "                       Source ProductTypes  Value\n",
       "0                    landmark            A      2\n",
       "1                    landmark            B      3\n",
       "2                    landmark            C      4\n",
       "3                    landmark            D      5\n",
       "4                    landmark            E      2\n",
       "5           Convenience Store            A      3\n",
       "6           Convenience Store            B      6\n",
       "7           Convenience Store            C      3\n",
       "8           Convenience Store            D      5\n",
       "9           Convenience Store            E      3\n",
       "10  Thong Fah Pracharath Shop            A      6\n",
       "11  Thong Fah Pracharath Shop            B      5\n",
       "12  Thong Fah Pracharath Shop            C      7\n",
       "13  Thong Fah Pracharath Shop            D      6\n",
       "14  Thong Fah Pracharath Shop            E      8"
      ]
     },
     "execution_count": 16,
     "metadata": {},
     "output_type": "execute_result"
    }
   ],
   "source": [
    "two_anova_sing = pd.read_excel('Two-Way ANOVA single.xlsx', sheet_name='Sheet2')\n",
    "two_anova_sing['Source'] = two_anova_sing['Source'].map({'แหล่งท่องเที่ยว':'landmark',\n",
    "                                                         'ร้านสะดวกซื้อ':'Convenience Store',\n",
    "                                                         'ร้านธงฟ้าประชารัฐ':'Thong Fah Pracharath Shop'})\n",
    "two_anova_sing"
   ]
  },
  {
   "cell_type": "markdown",
   "metadata": {},
   "source": [
    "### Explore Sources"
   ]
  },
  {
   "cell_type": "code",
   "execution_count": 17,
   "metadata": {
    "scrolled": false
   },
   "outputs": [
    {
     "data": {
      "image/png": "[encoded data removed]",
      "text/plain": [
       "<Figure size 720x432 with 1 Axes>"
      ]
     },
     "metadata": {
      "needs_background": "light"
     },
     "output_type": "display_data"
    },
    {
     "data": {
      "image/png": "[encoded data removed]",
      "text/plain": [
       "<Figure size 648x216 with 3 Axes>"
      ]
     },
     "metadata": {
      "needs_background": "light"
     },
     "output_type": "display_data"
    }
   ],
   "source": [
    "plt.figure(figsize=(10, 6))\n",
    "sns.boxplot(x='Source', y='Value', data=two_anova_sing)\n",
    "g = sns.FacetGrid(data=two_anova_sing, col='Source', hue='Source', palette='Set1');\n",
    "g = g.map(sns.distplot, 'Value', hist=False, rug=True);"
   ]
  },
  {
   "cell_type": "markdown",
   "metadata": {},
   "source": [
    "### Explore Product Types"
   ]
  },
  {
   "cell_type": "code",
   "execution_count": 18,
   "metadata": {
    "scrolled": false
   },
   "outputs": [
    {
     "data": {
      "image/png": "[encoded data removed]",
      "text/plain": [
       "<Figure size 720x432 with 1 Axes>"
      ]
     },
     "metadata": {
      "needs_background": "light"
     },
     "output_type": "display_data"
    },
    {
     "data": {
      "image/png": "[encoded data removed]",
      "text/plain": [
       "<Figure size 1080x216 with 5 Axes>"
      ]
     },
     "metadata": {
      "needs_background": "light"
     },
     "output_type": "display_data"
    }
   ],
   "source": [
    "plt.figure(figsize=(10, 6))\n",
    "sns.boxplot(x='ProductTypes', y='Value', data=two_anova_sing)\n",
    "g = sns.FacetGrid(data=two_anova_sing, col='ProductTypes', hue='ProductTypes', palette='Set1');\n",
    "g = g.map(sns.distplot, 'Value', hist=False, rug=True);"
   ]
  },
  {
   "cell_type": "code",
   "execution_count": 19,
   "metadata": {
    "scrolled": false
   },
   "outputs": [
    {
     "name": "stderr",
     "output_type": "stream",
     "text": [
      "C:\\Users\\User\\Anaconda3\\lib\\site-packages\\scipy\\stats\\stats.py:1450: UserWarning: kurtosistest only valid for n>=20 ... continuing anyway, n=15\n",
      "  \"anyway, n=%i\" % int(n))\n"
     ]
    },
    {
     "data": {
      "text/html": [
       "<table class=\"simpletable\">\n",
       "<caption>OLS Regression Results</caption>\n",
       "<tr>\n",
       "  <th>Dep. Variable:</th>          <td>Value</td>      <th>  R-squared:         </th> <td>   0.673</td>\n",
       "</tr>\n",
       "<tr>\n",
       "  <th>Model:</th>                   <td>OLS</td>       <th>  Adj. R-squared:    </th> <td>   0.428</td>\n",
       "</tr>\n",
       "<tr>\n",
       "  <th>Method:</th>             <td>Least Squares</td>  <th>  F-statistic:       </th> <td>   2.746</td>\n",
       "</tr>\n",
       "<tr>\n",
       "  <th>Date:</th>             <td>Wed, 24 Jul 2019</td> <th>  Prob (F-statistic):</th>  <td>0.0938</td> \n",
       "</tr>\n",
       "<tr>\n",
       "  <th>Time:</th>                 <td>20:00:37</td>     <th>  Log-Likelihood:    </th> <td> -21.578</td>\n",
       "</tr>\n",
       "<tr>\n",
       "  <th>No. Observations:</th>      <td>    15</td>      <th>  AIC:               </th> <td>   57.16</td>\n",
       "</tr>\n",
       "<tr>\n",
       "  <th>Df Residuals:</th>          <td>     8</td>      <th>  BIC:               </th> <td>   62.11</td>\n",
       "</tr>\n",
       "<tr>\n",
       "  <th>Df Model:</th>              <td>     6</td>      <th>                     </th>     <td> </td>   \n",
       "</tr>\n",
       "<tr>\n",
       "  <th>Covariance Type:</th>      <td>nonrobust</td>    <th>                     </th>     <td> </td>   \n",
       "</tr>\n",
       "</table>\n",
       "<table class=\"simpletable\">\n",
       "<tr>\n",
       "                     <td></td>                       <th>coef</th>     <th>std err</th>      <th>t</th>      <th>P>|t|</th>  <th>[0.025</th>    <th>0.975]</th>  \n",
       "</tr>\n",
       "<tr>\n",
       "  <th>Intercept</th>                              <td>    3.1333</td> <td>    0.954</td> <td>    3.285</td> <td> 0.011</td> <td>    0.934</td> <td>    5.333</td>\n",
       "</tr>\n",
       "<tr>\n",
       "  <th>C(Source)[T.Thong Fah Pracharath Shop]</th> <td>    2.4000</td> <td>    0.883</td> <td>    2.717</td> <td> 0.026</td> <td>    0.363</td> <td>    4.437</td>\n",
       "</tr>\n",
       "<tr>\n",
       "  <th>C(Source)[T.landmark]</th>                  <td>   -0.8000</td> <td>    0.883</td> <td>   -0.906</td> <td> 0.391</td> <td>   -2.837</td> <td>    1.237</td>\n",
       "</tr>\n",
       "<tr>\n",
       "  <th>C(ProductTypes)[T.B]</th>                   <td>    1.0000</td> <td>    1.140</td> <td>    0.877</td> <td> 0.406</td> <td>   -1.629</td> <td>    3.629</td>\n",
       "</tr>\n",
       "<tr>\n",
       "  <th>C(ProductTypes)[T.C]</th>                   <td>    1.0000</td> <td>    1.140</td> <td>    0.877</td> <td> 0.406</td> <td>   -1.629</td> <td>    3.629</td>\n",
       "</tr>\n",
       "<tr>\n",
       "  <th>C(ProductTypes)[T.D]</th>                   <td>    1.6667</td> <td>    1.140</td> <td>    1.462</td> <td> 0.182</td> <td>   -0.963</td> <td>    4.296</td>\n",
       "</tr>\n",
       "<tr>\n",
       "  <th>C(ProductTypes)[T.E]</th>                   <td>    0.6667</td> <td>    1.140</td> <td>    0.585</td> <td> 0.575</td> <td>   -1.963</td> <td>    3.296</td>\n",
       "</tr>\n",
       "</table>\n",
       "<table class=\"simpletable\">\n",
       "<tr>\n",
       "  <th>Omnibus:</th>       <td> 0.817</td> <th>  Durbin-Watson:     </th> <td>   2.758</td>\n",
       "</tr>\n",
       "<tr>\n",
       "  <th>Prob(Omnibus):</th> <td> 0.665</td> <th>  Jarque-Bera (JB):  </th> <td>   0.764</td>\n",
       "</tr>\n",
       "<tr>\n",
       "  <th>Skew:</th>          <td> 0.344</td> <th>  Prob(JB):          </th> <td>   0.682</td>\n",
       "</tr>\n",
       "<tr>\n",
       "  <th>Kurtosis:</th>      <td> 2.134</td> <th>  Cond. No.          </th> <td>    6.45</td>\n",
       "</tr>\n",
       "</table><br/><br/>Warnings:<br/>[1] Standard Errors assume that the covariance matrix of the errors is correctly specified."
      ],
      "text/plain": [
       "<class 'statsmodels.iolib.summary.Summary'>\n",
       "\"\"\"\n",
       "                            OLS Regression Results                            \n",
       "==============================================================================\n",
       "Dep. Variable:                  Value   R-squared:                       0.673\n",
       "Model:                            OLS   Adj. R-squared:                  0.428\n",
       "Method:                 Least Squares   F-statistic:                     2.746\n",
       "Date:                Wed, 24 Jul 2019   Prob (F-statistic):             0.0938\n",
       "Time:                        20:00:37   Log-Likelihood:                -21.578\n",
       "No. Observations:                  15   AIC:                             57.16\n",
       "Df Residuals:                       8   BIC:                             62.11\n",
       "Df Model:                           6                                         \n",
       "Covariance Type:            nonrobust                                         \n",
       "==========================================================================================================\n",
       "                                             coef    std err          t      P>|t|      [0.025      0.975]\n",
       "----------------------------------------------------------------------------------------------------------\n",
       "Intercept                                  3.1333      0.954      3.285      0.011       0.934       5.333\n",
       "C(Source)[T.Thong Fah Pracharath Shop]     2.4000      0.883      2.717      0.026       0.363       4.437\n",
       "C(Source)[T.landmark]                     -0.8000      0.883     -0.906      0.391      -2.837       1.237\n",
       "C(ProductTypes)[T.B]                       1.0000      1.140      0.877      0.406      -1.629       3.629\n",
       "C(ProductTypes)[T.C]                       1.0000      1.140      0.877      0.406      -1.629       3.629\n",
       "C(ProductTypes)[T.D]                       1.6667      1.140      1.462      0.182      -0.963       4.296\n",
       "C(ProductTypes)[T.E]                       0.6667      1.140      0.585      0.575      -1.963       3.296\n",
       "==============================================================================\n",
       "Omnibus:                        0.817   Durbin-Watson:                   2.758\n",
       "Prob(Omnibus):                  0.665   Jarque-Bera (JB):                0.764\n",
       "Skew:                           0.344   Prob(JB):                        0.682\n",
       "Kurtosis:                       2.134   Cond. No.                         6.45\n",
       "==============================================================================\n",
       "\n",
       "Warnings:\n",
       "[1] Standard Errors assume that the covariance matrix of the errors is correctly specified.\n",
       "\"\"\""
      ]
     },
     "execution_count": 19,
     "metadata": {},
     "output_type": "execute_result"
    }
   ],
   "source": [
    "results3 = ols('Value ~ C(Source)+ C(ProductTypes)', data=two_anova_sing).fit()\n",
    "results3.summary()"
   ]
  },
  {
   "cell_type": "code",
   "execution_count": 20,
   "metadata": {},
   "outputs": [],
   "source": [
    "def two_anova_table(model):\n",
    "    \n",
    "    two_anova_table = pd.DataFrame(sm.stats.anova_lm(model, typ=2))\n",
    "    two_anova_table['F-Crit'] = None\n",
    "    two_anova_table.iloc[0, -1] = stats.f.ppf(0.95, two_anova_table.iloc[0,1], two_anova_table.iloc[2,1])\n",
    "    two_anova_table.iloc[1, -1] = stats.f.ppf(0.95, two_anova_table.iloc[1,1], two_anova_table.iloc[2,1])    \n",
    "\n",
    "    i = 0\n",
    "    while i < two_anova_table.shape[0]-1:\n",
    "        \n",
    "        text_name = re.sub(r'[(.*?)]', '', two_anova_table.index.values[i])\n",
    "        text_name = re.sub(r'C', '', text_name)\n",
    "        \n",
    "        print(f'=======================================================[{text_name}]============================================')\n",
    "        print('========================================================[F-Test]=================================================')\n",
    "\n",
    "        f_value = two_anova_table.iloc[i, 2]\n",
    "        f_crit = two_anova_table.iloc[i, -1]\n",
    "        print(f'F-Test: {f_value}')\n",
    "        print(f'F-Critical: {f_crit}')\n",
    "\n",
    "        if f_value > f_crit:\n",
    "            print(\"Reject Null Hypothesis(H0)\")\n",
    "        else:\n",
    "            print(\"Accept Null Hypothesis(H0)\")\n",
    "\n",
    "\n",
    "        print('========================================================[P-Value]================================================')\n",
    "\n",
    "        p_value = two_anova_table.iloc[i, 3]\n",
    "        print(f'P-Value: {p_value}')\n",
    "\n",
    "        if p_value < 0.05:\n",
    "                print(\"Reject Null Hypothesis(H0)\")\n",
    "        else:\n",
    "                print(\"Accept Null Hypothesis(H0)\")\n",
    "                \n",
    "        print('\\n')\n",
    "        \n",
    "        i+=1                      \n",
    "            \n",
    "    return two_anova_table"
   ]
  },
  {
   "cell_type": "code",
   "execution_count": 21,
   "metadata": {
    "scrolled": false
   },
   "outputs": [
    {
     "name": "stdout",
     "output_type": "stream",
     "text": [
      "=======================================================[Source]============================================\n",
      "========================================================[F-Test]=================================================\n",
      "F-Test: 7.111111111111113\n",
      "F-Critical: 4.458970107524511\n",
      "Reject Null Hypothesis(H0)\n",
      "========================================================[P-Value]================================================\n",
      "P-Value: 0.016796159999999977\n",
      "Reject Null Hypothesis(H0)\n",
      "\n",
      "\n",
      "=======================================================[ProductTypes]============================================\n",
      "========================================================[F-Test]=================================================\n",
      "F-Test: 0.5641025641025621\n",
      "F-Critical: 3.837853354555897\n",
      "Accept Null Hypothesis(H0)\n",
      "========================================================[P-Value]================================================\n",
      "P-Value: 0.6958830528000013\n",
      "Accept Null Hypothesis(H0)\n",
      "\n",
      "\n"
     ]
    },
    {
     "data": {
      "text/html": [
       "<div>\n",
       "<style scoped>\n",
       "    .dataframe tbody tr th:only-of-type {\n",
       "        vertical-align: middle;\n",
       "    }\n",
       "\n",
       "    .dataframe tbody tr th {\n",
       "        vertical-align: top;\n",
       "    }\n",
       "\n",
       "    .dataframe thead th {\n",
       "        text-align: right;\n",
       "    }\n",
       "</style>\n",
       "<table border=\"1\" class=\"dataframe\">\n",
       "  <thead>\n",
       "    <tr style=\"text-align: right;\">\n",
       "      <th></th>\n",
       "      <th>sum_sq</th>\n",
       "      <th>df</th>\n",
       "      <th>F</th>\n",
       "      <th>PR(&gt;F)</th>\n",
       "      <th>F-Crit</th>\n",
       "    </tr>\n",
       "  </thead>\n",
       "  <tbody>\n",
       "    <tr>\n",
       "      <th>C(Source)</th>\n",
       "      <td>27.733333</td>\n",
       "      <td>2.0</td>\n",
       "      <td>7.111111</td>\n",
       "      <td>0.016796</td>\n",
       "      <td>4.45897</td>\n",
       "    </tr>\n",
       "    <tr>\n",
       "      <th>C(ProductTypes)</th>\n",
       "      <td>4.400000</td>\n",
       "      <td>4.0</td>\n",
       "      <td>0.564103</td>\n",
       "      <td>0.695883</td>\n",
       "      <td>3.83785</td>\n",
       "    </tr>\n",
       "    <tr>\n",
       "      <th>Residual</th>\n",
       "      <td>15.600000</td>\n",
       "      <td>8.0</td>\n",
       "      <td>NaN</td>\n",
       "      <td>NaN</td>\n",
       "      <td>None</td>\n",
       "    </tr>\n",
       "  </tbody>\n",
       "</table>\n",
       "</div>"
      ],
      "text/plain": [
       "                    sum_sq   df         F    PR(>F)   F-Crit\n",
       "C(Source)        27.733333  2.0  7.111111  0.016796  4.45897\n",
       "C(ProductTypes)   4.400000  4.0  0.564103  0.695883  3.83785\n",
       "Residual         15.600000  8.0       NaN       NaN     None"
      ]
     },
     "execution_count": 21,
     "metadata": {},
     "output_type": "execute_result"
    }
   ],
   "source": [
    "two_anova_table(results3)"
   ]
  },
  {
   "cell_type": "markdown",
   "metadata": {},
   "source": [
    "### Conclusion\n",
    "Question : Income from 5 products & 3 Sources = Difference ?\n",
    "\n",
    "#### 1 HYPOTHESIS : Incomes & 3 Sources\n",
    "- Reject Null Hypothesis(H0) >>> Incomes & 3 Sources = Difference (H1)\n",
    "\n",
    "#### 2 HYPOTHESIS : Incomes & 5 Products\n",
    "- Accept Null Hypothesis(H0) >>> Incomes & 5 Products = No Difference (H0)\n"
   ]
  },
  {
   "cell_type": "markdown",
   "metadata": {},
   "source": [
    "----"
   ]
  },
  {
   "cell_type": "markdown",
   "metadata": {},
   "source": [
    "# Two-Way ANONVA with Replication"
   ]
  },
  {
   "cell_type": "markdown",
   "metadata": {},
   "source": [
    "## Ex2: Satisfaction scores of 3 OS of 3 Groups = Difference ?\n",
    "\n",
    "### 1 HYPOTHESIS : Satisfaction scores & 3 Groups\n",
    "- $$ H_0: \\mu_1 = \\mu_2 = \\mu_3 : No Difference $$ \n",
    "- $$ H1: \\mu_i \\neq \\mu_j ;(i\\neq j) : Difference $$\n",
    "\n",
    "### 2 HYPOTHESIS : Satisfaction scores & 3 OS\n",
    "- $$ H_0: \\mu_1 = \\mu_2 = \\mu_3 : No Difference $$ \n",
    "- $$ H1: \\mu_i \\neq \\mu_j ;(i\\neq j) : Difference $$\n",
    "\n",
    "### 3 HYPOTHESIS : Satisfaction scores & 3 Groups, 3 OS  (Relationship)\n",
    "- $$ H_0: \\mu_1 = \\mu_2 = \\mu_3 = \\mu_4 = \\mu_5 : Independent $$ \n",
    "- $$ H1: \\mu_i \\neq \\mu_j ;(i\\neq j) : Dependent $$"
   ]
  },
  {
   "cell_type": "code",
   "execution_count": 22,
   "metadata": {
    "scrolled": false
   },
   "outputs": [
    {
     "name": "stdout",
     "output_type": "stream",
     "text": [
      "(36, 4)\n"
     ]
    },
    {
     "data": {
      "text/html": [
       "<div>\n",
       "<style scoped>\n",
       "    .dataframe tbody tr th:only-of-type {\n",
       "        vertical-align: middle;\n",
       "    }\n",
       "\n",
       "    .dataframe tbody tr th {\n",
       "        vertical-align: top;\n",
       "    }\n",
       "\n",
       "    .dataframe thead th {\n",
       "        text-align: right;\n",
       "    }\n",
       "</style>\n",
       "<table border=\"1\" class=\"dataframe\">\n",
       "  <thead>\n",
       "    <tr style=\"text-align: right;\">\n",
       "      <th></th>\n",
       "      <th>Groups</th>\n",
       "      <th>Id</th>\n",
       "      <th>OS</th>\n",
       "      <th>Value</th>\n",
       "    </tr>\n",
       "  </thead>\n",
       "  <tbody>\n",
       "    <tr>\n",
       "      <th>0</th>\n",
       "      <td>Group A</td>\n",
       "      <td>1</td>\n",
       "      <td>Dos</td>\n",
       "      <td>9</td>\n",
       "    </tr>\n",
       "    <tr>\n",
       "      <th>1</th>\n",
       "      <td>Group A</td>\n",
       "      <td>2</td>\n",
       "      <td>Dos</td>\n",
       "      <td>13</td>\n",
       "    </tr>\n",
       "    <tr>\n",
       "      <th>2</th>\n",
       "      <td>Group A</td>\n",
       "      <td>3</td>\n",
       "      <td>Dos</td>\n",
       "      <td>16</td>\n",
       "    </tr>\n",
       "    <tr>\n",
       "      <th>3</th>\n",
       "      <td>Group A</td>\n",
       "      <td>4</td>\n",
       "      <td>Dos</td>\n",
       "      <td>14</td>\n",
       "    </tr>\n",
       "    <tr>\n",
       "      <th>4</th>\n",
       "      <td>Group A</td>\n",
       "      <td>1</td>\n",
       "      <td>Macintosh</td>\n",
       "      <td>19</td>\n",
       "    </tr>\n",
       "  </tbody>\n",
       "</table>\n",
       "</div>"
      ],
      "text/plain": [
       "    Groups  Id         OS  Value\n",
       "0  Group A   1        Dos      9\n",
       "1  Group A   2        Dos     13\n",
       "2  Group A   3        Dos     16\n",
       "3  Group A   4        Dos     14\n",
       "4  Group A   1  Macintosh     19"
      ]
     },
     "execution_count": 22,
     "metadata": {},
     "output_type": "execute_result"
    }
   ],
   "source": [
    "two_anova_rep = pd.read_excel('Two-Way ANOVA rep.xlsx', sheet_name='Sheet2')\n",
    "\n",
    "# Sort Vulues\n",
    "two_anova_rep.sort_values(by=['Groups', 'OS'], inplace=True)\n",
    "two_anova_rep['Id'] = two_anova_rep.groupby(['OS', 'Groups']).cumcount()+1\n",
    "\n",
    "# Move Columns\n",
    "two_anova_rep = two_anova_rep[[two_anova_rep.columns[0]] + [two_anova_rep.columns[-1]] + list(two_anova_rep.columns[1:3])]\n",
    "\n",
    "two_anova_rep.reset_index(inplace=True, drop=True)\n",
    "\n",
    "print(two_anova_rep.shape)\n",
    "two_anova_rep.head()"
   ]
  },
  {
   "cell_type": "markdown",
   "metadata": {},
   "source": [
    "### Explore Groups"
   ]
  },
  {
   "cell_type": "code",
   "execution_count": 23,
   "metadata": {
    "scrolled": false
   },
   "outputs": [
    {
     "data": {
      "image/png": "[encoded data removed]",
      "text/plain": [
       "<Figure size 720x432 with 1 Axes>"
      ]
     },
     "metadata": {
      "needs_background": "light"
     },
     "output_type": "display_data"
    },
    {
     "data": {
      "image/png": "[encoded data removed]",
      "text/plain": [
       "<Figure size 648x216 with 3 Axes>"
      ]
     },
     "metadata": {
      "needs_background": "light"
     },
     "output_type": "display_data"
    }
   ],
   "source": [
    "plt.figure(figsize=(10,6))\n",
    "plt.title('Groups')\n",
    "sns.boxplot(data=two_anova_rep, x='Groups', y='Value')\n",
    "g = sns.FacetGrid(data=two_anova_rep, col='Groups', hue='Groups')\n",
    "g = g.map(sns.distplot, 'Value',hist=False, rug=True)\n",
    "plt.xlabel('');"
   ]
  },
  {
   "cell_type": "markdown",
   "metadata": {},
   "source": [
    "### Explore OS"
   ]
  },
  {
   "cell_type": "code",
   "execution_count": 24,
   "metadata": {
    "scrolled": false
   },
   "outputs": [
    {
     "data": {
      "image/png": "[encoded data removed]",
      "text/plain": [
       "<Figure size 720x432 with 1 Axes>"
      ]
     },
     "metadata": {
      "needs_background": "light"
     },
     "output_type": "display_data"
    },
    {
     "data": {
      "image/png": "[encoded data removed]",
      "text/plain": [
       "<Figure size 648x216 with 3 Axes>"
      ]
     },
     "metadata": {
      "needs_background": "light"
     },
     "output_type": "display_data"
    }
   ],
   "source": [
    "plt.figure(figsize=(10,6))\n",
    "plt.title('OS')\n",
    "sns.boxplot(data=two_anova_rep, x='OS', y='Value')\n",
    "g = sns.FacetGrid(data=two_anova_rep, col='OS', hue='OS')\n",
    "g = g.map(sns.distplot, 'Value',hist=False, rug=True)\n",
    "plt.xlabel('');"
   ]
  },
  {
   "cell_type": "markdown",
   "metadata": {},
   "source": [
    "### Compare Groups & OS "
   ]
  },
  {
   "cell_type": "code",
   "execution_count": 25,
   "metadata": {},
   "outputs": [
    {
     "data": {
      "image/png": "[encoded data removed]",
      "text/plain": [
       "<Figure size 720x576 with 1 Axes>"
      ]
     },
     "metadata": {
      "needs_background": "light"
     },
     "output_type": "display_data"
    }
   ],
   "source": [
    "plt.figure(figsize=(10, 8))\n",
    "sns.pointplot(data=two_anova_rep, x='OS', y='Value', hue='Groups', dodge=True, markers=['o', 's', '*'],\n",
    "              capsize=.05, errwidth=2, palette='colorblind');"
   ]
  },
  {
   "cell_type": "code",
   "execution_count": 26,
   "metadata": {
    "scrolled": true
   },
   "outputs": [
    {
     "data": {
      "text/html": [
       "<table class=\"simpletable\">\n",
       "<caption>OLS Regression Results</caption>\n",
       "<tr>\n",
       "  <th>Dep. Variable:</th>          <td>Value</td>      <th>  R-squared:         </th> <td>   0.088</td>\n",
       "</tr>\n",
       "<tr>\n",
       "  <th>Model:</th>                   <td>OLS</td>       <th>  Adj. R-squared:    </th> <td>  -0.030</td>\n",
       "</tr>\n",
       "<tr>\n",
       "  <th>Method:</th>             <td>Least Squares</td>  <th>  F-statistic:       </th> <td>  0.7438</td>\n",
       "</tr>\n",
       "<tr>\n",
       "  <th>Date:</th>             <td>Wed, 24 Jul 2019</td> <th>  Prob (F-statistic):</th>  <td> 0.570</td> \n",
       "</tr>\n",
       "<tr>\n",
       "  <th>Time:</th>                 <td>20:01:03</td>     <th>  Log-Likelihood:    </th> <td> -83.943</td>\n",
       "</tr>\n",
       "<tr>\n",
       "  <th>No. Observations:</th>      <td>    36</td>      <th>  AIC:               </th> <td>   177.9</td>\n",
       "</tr>\n",
       "<tr>\n",
       "  <th>Df Residuals:</th>          <td>    31</td>      <th>  BIC:               </th> <td>   185.8</td>\n",
       "</tr>\n",
       "<tr>\n",
       "  <th>Df Model:</th>              <td>     4</td>      <th>                     </th>     <td> </td>   \n",
       "</tr>\n",
       "<tr>\n",
       "  <th>Covariance Type:</th>      <td>nonrobust</td>    <th>                     </th>     <td> </td>   \n",
       "</tr>\n",
       "</table>\n",
       "<table class=\"simpletable\">\n",
       "<tr>\n",
       "            <td></td>              <th>coef</th>     <th>std err</th>      <th>t</th>      <th>P>|t|</th>  <th>[0.025</th>    <th>0.975]</th>  \n",
       "</tr>\n",
       "<tr>\n",
       "  <th>Intercept</th>            <td>   13.2778</td> <td>    1.001</td> <td>   13.271</td> <td> 0.000</td> <td>   11.237</td> <td>   15.318</td>\n",
       "</tr>\n",
       "<tr>\n",
       "  <th>C(OS)[T.Macintosh]</th>   <td>    1.3333</td> <td>    1.096</td> <td>    1.216</td> <td> 0.233</td> <td>   -0.902</td> <td>    3.569</td>\n",
       "</tr>\n",
       "<tr>\n",
       "  <th>C(OS)[T.Windows]</th>     <td>    0.5833</td> <td>    1.096</td> <td>    0.532</td> <td> 0.598</td> <td>   -1.652</td> <td>    2.819</td>\n",
       "</tr>\n",
       "<tr>\n",
       "  <th>C(Groups)[T.Group B]</th> <td>    0.5833</td> <td>    1.096</td> <td>    0.532</td> <td> 0.598</td> <td>   -1.652</td> <td>    2.819</td>\n",
       "</tr>\n",
       "<tr>\n",
       "  <th>C(Groups)[T.Group C]</th> <td>    1.3333</td> <td>    1.096</td> <td>    1.216</td> <td> 0.233</td> <td>   -0.902</td> <td>    3.569</td>\n",
       "</tr>\n",
       "</table>\n",
       "<table class=\"simpletable\">\n",
       "<tr>\n",
       "  <th>Omnibus:</th>       <td> 2.625</td> <th>  Durbin-Watson:     </th> <td>   2.194</td>\n",
       "</tr>\n",
       "<tr>\n",
       "  <th>Prob(Omnibus):</th> <td> 0.269</td> <th>  Jarque-Bera (JB):  </th> <td>   1.351</td>\n",
       "</tr>\n",
       "<tr>\n",
       "  <th>Skew:</th>          <td>-0.007</td> <th>  Prob(JB):          </th> <td>   0.509</td>\n",
       "</tr>\n",
       "<tr>\n",
       "  <th>Kurtosis:</th>      <td> 2.051</td> <th>  Cond. No.          </th> <td>    4.44</td>\n",
       "</tr>\n",
       "</table><br/><br/>Warnings:<br/>[1] Standard Errors assume that the covariance matrix of the errors is correctly specified."
      ],
      "text/plain": [
       "<class 'statsmodels.iolib.summary.Summary'>\n",
       "\"\"\"\n",
       "                            OLS Regression Results                            \n",
       "==============================================================================\n",
       "Dep. Variable:                  Value   R-squared:                       0.088\n",
       "Model:                            OLS   Adj. R-squared:                 -0.030\n",
       "Method:                 Least Squares   F-statistic:                    0.7438\n",
       "Date:                Wed, 24 Jul 2019   Prob (F-statistic):              0.570\n",
       "Time:                        20:01:03   Log-Likelihood:                -83.943\n",
       "No. Observations:                  36   AIC:                             177.9\n",
       "Df Residuals:                      31   BIC:                             185.8\n",
       "Df Model:                           4                                         \n",
       "Covariance Type:            nonrobust                                         \n",
       "========================================================================================\n",
       "                           coef    std err          t      P>|t|      [0.025      0.975]\n",
       "----------------------------------------------------------------------------------------\n",
       "Intercept               13.2778      1.001     13.271      0.000      11.237      15.318\n",
       "C(OS)[T.Macintosh]       1.3333      1.096      1.216      0.233      -0.902       3.569\n",
       "C(OS)[T.Windows]         0.5833      1.096      0.532      0.598      -1.652       2.819\n",
       "C(Groups)[T.Group B]     0.5833      1.096      0.532      0.598      -1.652       2.819\n",
       "C(Groups)[T.Group C]     1.3333      1.096      1.216      0.233      -0.902       3.569\n",
       "==============================================================================\n",
       "Omnibus:                        2.625   Durbin-Watson:                   2.194\n",
       "Prob(Omnibus):                  0.269   Jarque-Bera (JB):                1.351\n",
       "Skew:                          -0.007   Prob(JB):                        0.509\n",
       "Kurtosis:                       2.051   Cond. No.                         4.44\n",
       "==============================================================================\n",
       "\n",
       "Warnings:\n",
       "[1] Standard Errors assume that the covariance matrix of the errors is correctly specified.\n",
       "\"\"\""
      ]
     },
     "execution_count": 26,
     "metadata": {},
     "output_type": "execute_result"
    }
   ],
   "source": [
    "results4 = ols('Value ~ C(OS)+ C(Groups)', data=two_anova_rep).fit()\n",
    "results4.summary()"
   ]
  },
  {
   "cell_type": "code",
   "execution_count": 27,
   "metadata": {},
   "outputs": [],
   "source": [
    "def two_anova_rep_table(model, data, dv, within, subject):\n",
    "\n",
    "    two_anova_rep_table = pd.DataFrame(sm.stats.anova_lm(model, typ=1))\n",
    "    two_anova_rep_table['F-Crit'] = None\n",
    "    two_anova_rep_table.drop(two_anova_rep_table.index[-1], inplace=True)\n",
    "    \n",
    "    # get interaction value from pingouin lib \n",
    "    interaction = pg.rm_anova(dv=dv,\n",
    "                              within=within,\n",
    "                              subject=subject,\n",
    "                              data=data)    \n",
    "    # Handle columns\n",
    "    intera_values = interaction.iloc[interaction.index[-1], [0, 2, 1 ,4 ,5, 6]]\n",
    "    intera_values.index = ['Source','df', 'sum_sq', 'mean_sq', 'F', 'PR(>F)']\n",
    "\n",
    "    # add interaction value to main table\n",
    "    two_anova_rep_table = two_anova_rep_table.append(intera_values)\n",
    "    two_anova_rep_table.reset_index(inplace=True)    \n",
    "    two_anova_rep_table.iloc[-1,0] = two_anova_rep_table.iloc[-1,-1]\n",
    "    two_anova_rep_table.drop(two_anova_rep_table.columns[-1], axis=1, inplace=True)\n",
    "    two_anova_rep_table.set_index('index', inplace=True, drop=True)\n",
    "    two_anova_rep_table.index.name = ''\n",
    "    \n",
    "    # find degree of freedom\n",
    "    dof_within = (data.shape[0]-1) - two_anova_rep_table.sum(axis=0)[0]    \n",
    "    two_anova_rep_table.iloc[0, -1] = stats.f.ppf(0.95, two_anova_rep_table.iloc[0,0], dof_within)\n",
    "    two_anova_rep_table.iloc[1, -1] = stats.f.ppf(0.95, two_anova_rep_table.iloc[1,0], dof_within)\n",
    "    two_anova_rep_table.iloc[2, -1] = stats.f.ppf(0.95, two_anova_rep_table.iloc[2,0], dof_within)\n",
    "\n",
    "    \n",
    "    i = 0\n",
    "    while i < two_anova_rep_table.shape[0]:\n",
    "        \n",
    "        text_name = re.sub(r'[(.*?)]', '', two_anova_rep_table.index.values[i])\n",
    "        text_name = re.sub(r'C', '', text_name)\n",
    "        \n",
    "        print(f'=======================================================[{text_name}]============================================')\n",
    "        print('========================================================[F-Test]=================================================')\n",
    "\n",
    "        f_value = two_anova_rep_table.iloc[i, 3]\n",
    "        f_crit = two_anova_rep_table.iloc[i, -1]\n",
    "        print(f'F-Test: {f_value}')\n",
    "        print(f'F-Critical: {f_crit}')\n",
    "\n",
    "        if f_value > f_crit:\n",
    "            print(\"Reject Null Hypothesis(H0)\")\n",
    "        else:\n",
    "            print(\"Accept Null Hypothesis(H0)\")\n",
    "\n",
    "\n",
    "        print('========================================================[P-Value]================================================')\n",
    "\n",
    "        p_value = two_anova_rep_table.iloc[i, 4]\n",
    "        print(f'P-Value: {p_value}')\n",
    "\n",
    "        if p_value < 0.05:\n",
    "                print(\"Reject Null Hypothesis(H0)\")\n",
    "        else:\n",
    "                print(\"Accept Null Hypothesis(H0)\")\n",
    "                \n",
    "        print('\\n')\n",
    "        \n",
    "        i+=1                      \n",
    "            \n",
    "    return two_anova_rep_table"
   ]
  },
  {
   "cell_type": "code",
   "execution_count": 29,
   "metadata": {
    "scrolled": false
   },
   "outputs": [
    {
     "name": "stdout",
     "output_type": "stream",
     "text": [
      "=======================================================[OS]============================================\n",
      "========================================================[F-Test]=================================================\n",
      "F-Test: 0.7437841869716536\n",
      "F-Critical: 3.3541308285291986\n",
      "Accept Null Hypothesis(H0)\n",
      "========================================================[P-Value]================================================\n",
      "P-Value: 0.48360363119166894\n",
      "Accept Null Hypothesis(H0)\n",
      "\n",
      "\n",
      "=======================================================[Groups]============================================\n",
      "========================================================[F-Test]=================================================\n",
      "F-Test: 0.7437841869716569\n",
      "F-Critical: 3.3541308285291986\n",
      "Accept Null Hypothesis(H0)\n",
      "========================================================[P-Value]================================================\n",
      "P-Value: 0.48360363119166716\n",
      "Accept Null Hypothesis(H0)\n",
      "\n",
      "\n",
      "=======================================================[Groups  OS]============================================\n",
      "========================================================[F-Test]=================================================\n",
      "F-Test: 1.254\n",
      "F-Critical: 2.7277653060339886\n",
      "Accept Null Hypothesis(H0)\n",
      "========================================================[P-Value]================================================\n",
      "P-Value: 0.34055585982904163\n",
      "Accept Null Hypothesis(H0)\n",
      "\n",
      "\n"
     ]
    },
    {
     "data": {
      "text/html": [
       "<div>\n",
       "<style scoped>\n",
       "    .dataframe tbody tr th:only-of-type {\n",
       "        vertical-align: middle;\n",
       "    }\n",
       "\n",
       "    .dataframe tbody tr th {\n",
       "        vertical-align: top;\n",
       "    }\n",
       "\n",
       "    .dataframe thead th {\n",
       "        text-align: right;\n",
       "    }\n",
       "</style>\n",
       "<table border=\"1\" class=\"dataframe\">\n",
       "  <thead>\n",
       "    <tr style=\"text-align: right;\">\n",
       "      <th></th>\n",
       "      <th>df</th>\n",
       "      <th>sum_sq</th>\n",
       "      <th>mean_sq</th>\n",
       "      <th>F</th>\n",
       "      <th>PR(&gt;F)</th>\n",
       "      <th>F-Crit</th>\n",
       "    </tr>\n",
       "    <tr>\n",
       "      <th></th>\n",
       "      <th></th>\n",
       "      <th></th>\n",
       "      <th></th>\n",
       "      <th></th>\n",
       "      <th></th>\n",
       "      <th></th>\n",
       "    </tr>\n",
       "  </thead>\n",
       "  <tbody>\n",
       "    <tr>\n",
       "      <th>C(OS)</th>\n",
       "      <td>2.0</td>\n",
       "      <td>10.722222</td>\n",
       "      <td>5.361111</td>\n",
       "      <td>0.743784</td>\n",
       "      <td>0.483604</td>\n",
       "      <td>3.35413</td>\n",
       "    </tr>\n",
       "    <tr>\n",
       "      <th>C(Groups)</th>\n",
       "      <td>2.0</td>\n",
       "      <td>10.722222</td>\n",
       "      <td>5.361111</td>\n",
       "      <td>0.743784</td>\n",
       "      <td>0.483604</td>\n",
       "      <td>3.35413</td>\n",
       "    </tr>\n",
       "    <tr>\n",
       "      <th>Groups * OS</th>\n",
       "      <td>4.0</td>\n",
       "      <td>31.444000</td>\n",
       "      <td>7.861000</td>\n",
       "      <td>1.254000</td>\n",
       "      <td>0.340556</td>\n",
       "      <td>2.72777</td>\n",
       "    </tr>\n",
       "  </tbody>\n",
       "</table>\n",
       "</div>"
      ],
      "text/plain": [
       "              df     sum_sq   mean_sq         F    PR(>F)   F-Crit\n",
       "                                                                  \n",
       "C(OS)        2.0  10.722222  5.361111  0.743784  0.483604  3.35413\n",
       "C(Groups)    2.0  10.722222  5.361111  0.743784  0.483604  3.35413\n",
       "Groups * OS  4.0  31.444000  7.861000  1.254000  0.340556  2.72777"
      ]
     },
     "execution_count": 29,
     "metadata": {},
     "output_type": "execute_result"
    }
   ],
   "source": [
    "two_anova_rep_table(results4, data=two_anova_rep, dv='Value', within=['Groups', 'OS'], subject='Id')"
   ]
  },
  {
   "cell_type": "markdown",
   "metadata": {},
   "source": [
    "### Conclusion\n",
    "Question : Satisfaction scores of 3 OS of 3 Groups = Difference ?\n",
    "\n",
    "#### 3 HYPOTHESIS : Satisfaction scores & 3 Groups, 3 OS (Relationship)\n",
    "- Accept Null Hypothesis(H0) >>> Satisfaction scores & 3 Groups, 3 OS = Independent (H0)\n",
    "\n",
    "#### 1 HYPOTHESIS : Satisfaction scores & 3 Groups\n",
    "- Accept Null Hypothesis(H0) >>> Satisfaction scores & 3 Groups = No Difference (H0)\n",
    "\n",
    "#### 2 HYPOTHESIS : Satisfaction scores & 3 OS\n",
    "- Accept Null Hypothesis(H0) >>> Satisfaction scores & 3 OS = No Difference (H0)\n",
    "\n"
   ]
  },
  {
   "cell_type": "markdown",
   "metadata": {},
   "source": [
    "---"
   ]
  }
 ],
 "metadata": {
  "kernelspec": {
   "display_name": "Python 3",
   "language": "python",
   "name": "python3"
  },
  "language_info": {
   "codemirror_mode": {
    "name": "ipython",
    "version": 3
   },
   "file_extension": ".py",
   "mimetype": "text/x-python",
   "name": "python",
   "nbconvert_exporter": "python",
   "pygments_lexer": "ipython3",
   "version": "3.6.7"
  }
 },
 "nbformat": 4,
 "nbformat_minor": 2
}
