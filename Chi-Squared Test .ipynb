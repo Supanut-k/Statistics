{
 "cells": [
  {
   "cell_type": "markdown",
   "metadata": {},
   "source": [
    "# Qualitative Data"
   ]
  },
  {
   "cell_type": "markdown",
   "metadata": {},
   "source": [
    "# Chi-Squared Test"
   ]
  },
  {
   "cell_type": "markdown",
   "metadata": {},
   "source": [
    "- $$H_0 : Variable 1, Variable 2 (independent, no relationship) $$\n",
    "- $$H_1 : Variable 1, Variable 2 (dependent, relationship) $$"
   ]
  },
  {
   "cell_type": "markdown",
   "metadata": {},
   "source": [
    "- $$ P-Value < \\alpha $$\n",
    "- $$: reject H_0$$"
   ]
  },
  {
   "cell_type": "markdown",
   "metadata": {},
   "source": [
    "## Constraints\n",
    "- 1) All variables are Independent\n",
    "- 2) n >= 50\n",
    "- 3) Expected Frequency each group >= 5\n",
    "- 4) chi^2 of degree of freedom = 1 & n < 50 >>> Adjusted Yate's"
   ]
  },
  {
   "cell_type": "markdown",
   "metadata": {},
   "source": [
    "## Chi-Squared Test\n",
    "- [Ex1](#Ex1-:-Blood-Pressure-&-Smoking-Relationship-?)\n",
    "- [Ex2](#Ex2-:-Sex-&-Reading-E-book-Relationship-?)"
   ]
  },
  {
   "cell_type": "code",
   "execution_count": 1,
   "metadata": {},
   "outputs": [],
   "source": [
    "import numpy as np\n",
    "import pandas as pd\n",
    "from scipy import stats\n",
    "import seaborn as sns"
   ]
  },
  {
   "cell_type": "markdown",
   "metadata": {},
   "source": [
    "## Ex1 : Blood Pressure & Smoking Relationship ?"
   ]
  },
  {
   "cell_type": "markdown",
   "metadata": {},
   "source": [
    "- $$H_0 : Blood Pressure_- Smoking = Independent $$\n",
    "- $$H_1 : Blood Pressure_-Smoking = Dependent $$"
   ]
  },
  {
   "cell_type": "code",
   "execution_count": 2,
   "metadata": {
    "scrolled": false
   },
   "outputs": [
    {
     "data": {
      "text/html": [
       "<div>\n",
       "<style scoped>\n",
       "    .dataframe tbody tr th:only-of-type {\n",
       "        vertical-align: middle;\n",
       "    }\n",
       "\n",
       "    .dataframe tbody tr th {\n",
       "        vertical-align: top;\n",
       "    }\n",
       "\n",
       "    .dataframe thead th {\n",
       "        text-align: right;\n",
       "    }\n",
       "</style>\n",
       "<table border=\"1\" class=\"dataframe\">\n",
       "  <thead>\n",
       "    <tr style=\"text-align: right;\">\n",
       "      <th></th>\n",
       "      <th>Blood Pressure</th>\n",
       "      <th>Smoking</th>\n",
       "      <th>Value</th>\n",
       "    </tr>\n",
       "  </thead>\n",
       "  <tbody>\n",
       "    <tr>\n",
       "      <th>0</th>\n",
       "      <td>high</td>\n",
       "      <td>no smoking</td>\n",
       "      <td>24</td>\n",
       "    </tr>\n",
       "    <tr>\n",
       "      <th>1</th>\n",
       "      <td>high</td>\n",
       "      <td>mid smoking</td>\n",
       "      <td>39</td>\n",
       "    </tr>\n",
       "    <tr>\n",
       "      <th>2</th>\n",
       "      <td>high</td>\n",
       "      <td>high smoking</td>\n",
       "      <td>34</td>\n",
       "    </tr>\n",
       "    <tr>\n",
       "      <th>3</th>\n",
       "      <td>Normal</td>\n",
       "      <td>no smoking</td>\n",
       "      <td>51</td>\n",
       "    </tr>\n",
       "    <tr>\n",
       "      <th>4</th>\n",
       "      <td>Normal</td>\n",
       "      <td>mid smoking</td>\n",
       "      <td>29</td>\n",
       "    </tr>\n",
       "    <tr>\n",
       "      <th>5</th>\n",
       "      <td>Normal</td>\n",
       "      <td>high smoking</td>\n",
       "      <td>23</td>\n",
       "    </tr>\n",
       "  </tbody>\n",
       "</table>\n",
       "</div>"
      ],
      "text/plain": [
       "  Blood Pressure       Smoking  Value\n",
       "0           high    no smoking     24\n",
       "1           high   mid smoking     39\n",
       "2           high  high smoking     34\n",
       "3         Normal    no smoking     51\n",
       "4         Normal   mid smoking     29\n",
       "5         Normal  high smoking     23"
      ]
     },
     "execution_count": 2,
     "metadata": {},
     "output_type": "execute_result"
    }
   ],
   "source": [
    "Blood_Smoking = pd.read_excel('Blood_Smoke.xlsx', sheet_name='Sheet2')\n",
    "\n",
    "Blood_Smoking.columns = ['Blood Pressure', 'Smoking', 'Value']\n",
    "Blood_Smoking['Blood Pressure'] = Blood_Smoking['Blood Pressure'].map({'สูง':'high','ต่ำ':'Normal'})\n",
    "Blood_Smoking['Smoking'] = Blood_Smoking['Smoking'].map({'สูบบุหรี่จัด':'high smoking',\n",
    "                                                         'สูบบุหรี่ปานกลาง':'mid smoking',\n",
    "                                                         'ไม่สูบบุหรี่':'no smoking'})\n",
    "Blood_Smoking"
   ]
  },
  {
   "cell_type": "code",
   "execution_count": 3,
   "metadata": {
    "scrolled": true
   },
   "outputs": [
    {
     "data": {
      "text/html": [
       "<div>\n",
       "<style scoped>\n",
       "    .dataframe tbody tr th:only-of-type {\n",
       "        vertical-align: middle;\n",
       "    }\n",
       "\n",
       "    .dataframe tbody tr th {\n",
       "        vertical-align: top;\n",
       "    }\n",
       "\n",
       "    .dataframe thead th {\n",
       "        text-align: right;\n",
       "    }\n",
       "</style>\n",
       "<table border=\"1\" class=\"dataframe\">\n",
       "  <thead>\n",
       "    <tr style=\"text-align: right;\">\n",
       "      <th></th>\n",
       "      <th>high smoking</th>\n",
       "      <th>mid smoking</th>\n",
       "      <th>no smoking</th>\n",
       "    </tr>\n",
       "    <tr>\n",
       "      <th>Blood Pressure</th>\n",
       "      <th></th>\n",
       "      <th></th>\n",
       "      <th></th>\n",
       "    </tr>\n",
       "  </thead>\n",
       "  <tbody>\n",
       "    <tr>\n",
       "      <th>Normal</th>\n",
       "      <td>23</td>\n",
       "      <td>29</td>\n",
       "      <td>51</td>\n",
       "    </tr>\n",
       "    <tr>\n",
       "      <th>high</th>\n",
       "      <td>34</td>\n",
       "      <td>39</td>\n",
       "      <td>24</td>\n",
       "    </tr>\n",
       "  </tbody>\n",
       "</table>\n",
       "</div>"
      ],
      "text/plain": [
       "                high smoking  mid smoking  no smoking\n",
       "Blood Pressure                                       \n",
       "Normal                    23           29          51\n",
       "high                      34           39          24"
      ]
     },
     "execution_count": 3,
     "metadata": {},
     "output_type": "execute_result"
    }
   ],
   "source": [
    "cross_Bl_Sm = pd.crosstab(index=Blood_Smoking['Blood Pressure'],\n",
    "                          columns=Blood_Smoking['Smoking'],\n",
    "                          values=Blood_Smoking['Value'],\n",
    "                          aggfunc='sum')\n",
    "\n",
    "cross_Bl_Sm.columns.name = None\n",
    "cross_Bl_Sm"
   ]
  },
  {
   "cell_type": "code",
   "execution_count": 4,
   "metadata": {
    "scrolled": true
   },
   "outputs": [
    {
     "data": {
      "image/png": "[encoded data removed]",
      "text/plain": [
       "<Figure size 432x288 with 1 Axes>"
      ]
     },
     "metadata": {
      "needs_background": "light"
     },
     "output_type": "display_data"
    }
   ],
   "source": [
    "sns.barplot(x='Blood Pressure', y='Value' , data = Blood_Smoking, hue='Smoking')\n",
    "sns.despine()"
   ]
  },
  {
   "cell_type": "markdown",
   "metadata": {},
   "source": [
    "### Chi-Squared Test"
   ]
  },
  {
   "cell_type": "code",
   "execution_count": 5,
   "metadata": {
    "scrolled": true
   },
   "outputs": [
    {
     "name": "stdout",
     "output_type": "stream",
     "text": [
      "==================================================[Chi2 Stat]================================================\n",
      "Chi2 Test:  13.145225956198558\n",
      "chi2_stat: 13.145225956198558 > critical region: 0.31094252823251006 = Dependent (Reject Null Hypothesis(H0))\n",
      "\n",
      "\n",
      "==============================================[Degrees of Freedom]===========================================\n",
      "Degree of freedom:  2\n",
      "\n",
      "\n",
      "=====================================================[P-Value]===============================================\n",
      "P-Value:  0.001398139327527964\n",
      "α: 0.050000000000000044 > p-value: 0.001398139327527964 = Dependent (Reject Null Hypothesis(H0))\n",
      "\n",
      "\n",
      "================================================[Expected Frequency]=========================================\n",
      "[[29.355 35.02  38.625]\n",
      " [27.645 32.98  36.375]]\n",
      "\n",
      "\n"
     ]
    }
   ],
   "source": [
    "chi2_stat, p_val, dof, ex = stats.chi2_contingency(cross_Bl_Sm)\n",
    " \n",
    "print(\"==================================================[Chi2 Stat]================================================\")\n",
    "print('Chi2 Test: ', chi2_stat)\n",
    "\n",
    "# interpret test-statistic   \n",
    "prob = 0.95\n",
    "critical = stats.chi2.pdf(prob, dof)\n",
    "if abs(chi2_stat) >= critical:\n",
    "    print('chi2_stat: {} > critical region: {} = Dependent (Reject Null Hypothesis(H0))'.format(chi2_stat, critical))\n",
    "else:\n",
    "    print('chi2_stat: {} > critical region: {} = Independent (Accept Null Hypothesis(H0))'.format(chi2_stat, critical))\n",
    "print(\"\\n\")\n",
    "\n",
    "\n",
    "print(\"==============================================[Degrees of Freedom]===========================================\")\n",
    "print('Degree of freedom: ', dof)\n",
    "print(\"\\n\")\n",
    "\n",
    "print(\"=====================================================[P-Value]===============================================\")\n",
    "print('P-Value: ',p_val)\n",
    "\n",
    "# interpret P-vale   \n",
    "prob = 0.95\n",
    "alpha = 1.0 - prob\n",
    "if p_val <= alpha:\n",
    "    print('α: {} > p-value: {} = Dependent (Reject Null Hypothesis(H0))'.format(alpha, p_val))\n",
    "else:\n",
    "    print('α: {} < p-value: {} = Independent (Accept Null Hypothesis(H0))'.format(alpha, p_val))\n",
    "print(\"\\n\")\n",
    "\n",
    "\n",
    "print(\"================================================[Expected Frequency]=========================================\")\n",
    "print(ex)\n",
    "print('\\n')"
   ]
  },
  {
   "cell_type": "code",
   "execution_count": 6,
   "metadata": {
    "scrolled": false
   },
   "outputs": [
    {
     "data": {
      "text/html": [
       "<div>\n",
       "<style scoped>\n",
       "    .dataframe tbody tr th:only-of-type {\n",
       "        vertical-align: middle;\n",
       "    }\n",
       "\n",
       "    .dataframe tbody tr th {\n",
       "        vertical-align: top;\n",
       "    }\n",
       "\n",
       "    .dataframe thead th {\n",
       "        text-align: right;\n",
       "    }\n",
       "</style>\n",
       "<table border=\"1\" class=\"dataframe\">\n",
       "  <thead>\n",
       "    <tr style=\"text-align: right;\">\n",
       "      <th></th>\n",
       "      <th>high smoking</th>\n",
       "      <th>mid smoking</th>\n",
       "      <th>no smoking</th>\n",
       "    </tr>\n",
       "  </thead>\n",
       "  <tbody>\n",
       "    <tr>\n",
       "      <th>Normal</th>\n",
       "      <td>29.355</td>\n",
       "      <td>35.02</td>\n",
       "      <td>38.625</td>\n",
       "    </tr>\n",
       "    <tr>\n",
       "      <th>high</th>\n",
       "      <td>27.645</td>\n",
       "      <td>32.98</td>\n",
       "      <td>36.375</td>\n",
       "    </tr>\n",
       "  </tbody>\n",
       "</table>\n",
       "</div>"
      ],
      "text/plain": [
       "        high smoking  mid smoking  no smoking\n",
       "Normal        29.355        35.02      38.625\n",
       "high          27.645        32.98      36.375"
      ]
     },
     "execution_count": 6,
     "metadata": {},
     "output_type": "execute_result"
    }
   ],
   "source": [
    "# Expected Frequency Table\n",
    "Expected_values = pd.DataFrame(ex, index=['Normal', 'high'], columns=['high smoking', 'mid smoking', 'no smoking'])\n",
    "Expected_values"
   ]
  },
  {
   "cell_type": "markdown",
   "metadata": {},
   "source": [
    "### Conclusion\n",
    "Question : Blood Pressure & Smoking Relationship ?\n",
    "- Rccept Null Hypothesis(H0) >>> Blood Pressure & Smoking Relationship = Dependent\n",
    "\n",
    "    - ค่า Chi-square value (13.145225956198558)\n",
    "    - ค่า p-value (0.824)\n",
    "    - ค่า degree of freedom (2)\n",
    "    - ค่า Expected frequencies > 5 (array)"
   ]
  },
  {
   "cell_type": "markdown",
   "metadata": {},
   "source": [
    "---"
   ]
  },
  {
   "cell_type": "markdown",
   "metadata": {},
   "source": [
    "## Ex2 : Sex & Reading E-book Relationship ?"
   ]
  },
  {
   "cell_type": "markdown",
   "metadata": {},
   "source": [
    "- $$H_0 : Sex_-Reading E-book = Independent $$\n",
    "- $$H_1 : Sex_-Reading E-book = Dependent $$"
   ]
  },
  {
   "cell_type": "code",
   "execution_count": 7,
   "metadata": {
    "scrolled": false
   },
   "outputs": [
    {
     "data": {
      "text/html": [
       "<div>\n",
       "<style scoped>\n",
       "    .dataframe tbody tr th:only-of-type {\n",
       "        vertical-align: middle;\n",
       "    }\n",
       "\n",
       "    .dataframe tbody tr th {\n",
       "        vertical-align: top;\n",
       "    }\n",
       "\n",
       "    .dataframe thead th {\n",
       "        text-align: right;\n",
       "    }\n",
       "</style>\n",
       "<table border=\"1\" class=\"dataframe\">\n",
       "  <thead>\n",
       "    <tr style=\"text-align: right;\">\n",
       "      <th></th>\n",
       "      <th>Sex</th>\n",
       "      <th>Reading</th>\n",
       "      <th>Value</th>\n",
       "    </tr>\n",
       "  </thead>\n",
       "  <tbody>\n",
       "    <tr>\n",
       "      <th>0</th>\n",
       "      <td>Male</td>\n",
       "      <td>Always</td>\n",
       "      <td>65</td>\n",
       "    </tr>\n",
       "    <tr>\n",
       "      <th>1</th>\n",
       "      <td>Male</td>\n",
       "      <td>Sometime</td>\n",
       "      <td>40</td>\n",
       "    </tr>\n",
       "    <tr>\n",
       "      <th>2</th>\n",
       "      <td>Male</td>\n",
       "      <td>Never</td>\n",
       "      <td>5</td>\n",
       "    </tr>\n",
       "    <tr>\n",
       "      <th>3</th>\n",
       "      <td>Female</td>\n",
       "      <td>Always</td>\n",
       "      <td>25</td>\n",
       "    </tr>\n",
       "    <tr>\n",
       "      <th>4</th>\n",
       "      <td>Female</td>\n",
       "      <td>Sometime</td>\n",
       "      <td>60</td>\n",
       "    </tr>\n",
       "    <tr>\n",
       "      <th>5</th>\n",
       "      <td>Female</td>\n",
       "      <td>Never</td>\n",
       "      <td>15</td>\n",
       "    </tr>\n",
       "  </tbody>\n",
       "</table>\n",
       "</div>"
      ],
      "text/plain": [
       "      Sex   Reading  Value\n",
       "0    Male    Always     65\n",
       "1    Male  Sometime     40\n",
       "2    Male     Never      5\n",
       "3  Female    Always     25\n",
       "4  Female  Sometime     60\n",
       "5  Female     Never     15"
      ]
     },
     "execution_count": 7,
     "metadata": {},
     "output_type": "execute_result"
    }
   ],
   "source": [
    "Sex_Reading = pd.read_excel('Sex_Ebook.xlsx', sheet_name='Sheet2')\n",
    "Sex_Reading['Sex'] = Sex_Reading['Sex'].map({'ชาย':'Male','หญิง':'Female'})\n",
    "Sex_Reading['Reading'] = Sex_Reading['Reading'].map({'อ่านเป็นประจำ':'Always',\n",
    "                                                    'อ่านบ้างเป็นครั้งคราว':'Sometime',\n",
    "                                                    'ไม่ต้องอ่านเลย':'Never'})\n",
    "\n",
    "Sex_Reading"
   ]
  },
  {
   "cell_type": "code",
   "execution_count": 8,
   "metadata": {
    "scrolled": true
   },
   "outputs": [
    {
     "data": {
      "text/html": [
       "<div>\n",
       "<style scoped>\n",
       "    .dataframe tbody tr th:only-of-type {\n",
       "        vertical-align: middle;\n",
       "    }\n",
       "\n",
       "    .dataframe tbody tr th {\n",
       "        vertical-align: top;\n",
       "    }\n",
       "\n",
       "    .dataframe thead th {\n",
       "        text-align: right;\n",
       "    }\n",
       "</style>\n",
       "<table border=\"1\" class=\"dataframe\">\n",
       "  <thead>\n",
       "    <tr style=\"text-align: right;\">\n",
       "      <th></th>\n",
       "      <th>Always</th>\n",
       "      <th>Never</th>\n",
       "      <th>Sometime</th>\n",
       "    </tr>\n",
       "    <tr>\n",
       "      <th>Sex</th>\n",
       "      <th></th>\n",
       "      <th></th>\n",
       "      <th></th>\n",
       "    </tr>\n",
       "  </thead>\n",
       "  <tbody>\n",
       "    <tr>\n",
       "      <th>Female</th>\n",
       "      <td>25</td>\n",
       "      <td>15</td>\n",
       "      <td>60</td>\n",
       "    </tr>\n",
       "    <tr>\n",
       "      <th>Male</th>\n",
       "      <td>65</td>\n",
       "      <td>5</td>\n",
       "      <td>40</td>\n",
       "    </tr>\n",
       "  </tbody>\n",
       "</table>\n",
       "</div>"
      ],
      "text/plain": [
       "        Always  Never  Sometime\n",
       "Sex                            \n",
       "Female      25     15        60\n",
       "Male        65      5        40"
      ]
     },
     "execution_count": 8,
     "metadata": {},
     "output_type": "execute_result"
    }
   ],
   "source": [
    "Cross_Sx_Read = pd.crosstab(Sex_Reading['Sex'],\n",
    "                            Sex_Reading['Reading'],\n",
    "                            Sex_Reading['Value'],\n",
    "                            aggfunc='sum')\n",
    "Cross_Sx_Read.columns.name = None\n",
    "Cross_Sx_Read"
   ]
  },
  {
   "cell_type": "code",
   "execution_count": 9,
   "metadata": {
    "scrolled": false
   },
   "outputs": [
    {
     "data": {
      "image/png": "[encoded data removed]",
      "text/plain": [
       "<Figure size 432x288 with 1 Axes>"
      ]
     },
     "metadata": {
      "needs_background": "light"
     },
     "output_type": "display_data"
    }
   ],
   "source": [
    "sns.barplot(x='Sex', y='Value' , data = Sex_Reading, hue='Reading')\n",
    "sns.despine()"
   ]
  },
  {
   "cell_type": "markdown",
   "metadata": {},
   "source": [
    "### Chi-Squared Test"
   ]
  },
  {
   "cell_type": "code",
   "execution_count": 10,
   "metadata": {
    "scrolled": false
   },
   "outputs": [
    {
     "name": "stdout",
     "output_type": "stream",
     "text": [
      "==================================================[Chi2 Stat]================================================\n",
      "Chi2 Test:  26.361363636363635\n",
      "chi2_stat: 26.361363636363635 > critical region: 0.31094252823251006 = Dependent (Reject Null Hypothesis(H0))\n",
      "\n",
      "\n",
      "==============================================[Degrees of Freedom]===========================================\n",
      "Degree of freedom:  2\n",
      "\n",
      "\n",
      "=====================================================[P-Value]===============================================\n",
      "P-Value:  1.8866989973079415e-06\n",
      "α: 0.050000000000000044 > p-value: 1.8866989973079415e-06 = Dependent (Reject Null Hypothesis(H0))\n",
      "\n",
      "\n",
      "================================================[Expected Frequency]=========================================\n",
      "[[42.85714286  9.52380952 47.61904762]\n",
      " [47.14285714 10.47619048 52.38095238]]\n",
      "\n",
      "\n"
     ]
    }
   ],
   "source": [
    "chi2_stat, p_val, dof, ex = stats.chi2_contingency(Cross_Sx_Read)\n",
    " \n",
    "print(\"==================================================[Chi2 Stat]================================================\")\n",
    "print('Chi2 Test: ', chi2_stat)\n",
    "\n",
    "# interpret test-statistic   \n",
    "prob = 0.95\n",
    "critical = stats.chi2.pdf(prob, dof)\n",
    "if abs(chi2_stat) >= critical:\n",
    "    print('chi2_stat: {} > critical region: {} = Dependent (Reject Null Hypothesis(H0))'.format(chi2_stat, critical))\n",
    "else:\n",
    "    print('chi2_stat: {} > critical region: {} = Independent (Accept Null Hypothesis(H0))'.format(chi2_stat, critical))\n",
    "print(\"\\n\")\n",
    "\n",
    "\n",
    "print(\"==============================================[Degrees of Freedom]===========================================\")\n",
    "print('Degree of freedom: ', dof)\n",
    "print(\"\\n\")\n",
    "\n",
    "print(\"=====================================================[P-Value]===============================================\")\n",
    "print('P-Value: ',p_val)\n",
    "\n",
    "# interpret P-vale   \n",
    "prob = 0.95\n",
    "alpha = 1.0 - prob\n",
    "if p_val <= alpha:\n",
    "    print('α: {} > p-value: {} = Dependent (Reject Null Hypothesis(H0))'.format(alpha, p_val))\n",
    "else:\n",
    "    print('α: {} < p-value: {} = Independent (Accept Null Hypothesis(H0))'.format(alpha, p_val))\n",
    "print(\"\\n\")\n",
    "\n",
    "\n",
    "print(\"================================================[Expected Frequency]=========================================\")\n",
    "print(ex)\n",
    "print('\\n')"
   ]
  },
  {
   "cell_type": "code",
   "execution_count": 11,
   "metadata": {
    "scrolled": true
   },
   "outputs": [
    {
     "data": {
      "text/html": [
       "<div>\n",
       "<style scoped>\n",
       "    .dataframe tbody tr th:only-of-type {\n",
       "        vertical-align: middle;\n",
       "    }\n",
       "\n",
       "    .dataframe tbody tr th {\n",
       "        vertical-align: top;\n",
       "    }\n",
       "\n",
       "    .dataframe thead th {\n",
       "        text-align: right;\n",
       "    }\n",
       "</style>\n",
       "<table border=\"1\" class=\"dataframe\">\n",
       "  <thead>\n",
       "    <tr style=\"text-align: right;\">\n",
       "      <th></th>\n",
       "      <th>Always</th>\n",
       "      <th>Never</th>\n",
       "      <th>Sometime</th>\n",
       "    </tr>\n",
       "  </thead>\n",
       "  <tbody>\n",
       "    <tr>\n",
       "      <th>Female</th>\n",
       "      <td>42.857143</td>\n",
       "      <td>9.52381</td>\n",
       "      <td>47.619048</td>\n",
       "    </tr>\n",
       "    <tr>\n",
       "      <th>Male</th>\n",
       "      <td>47.142857</td>\n",
       "      <td>10.47619</td>\n",
       "      <td>52.380952</td>\n",
       "    </tr>\n",
       "  </tbody>\n",
       "</table>\n",
       "</div>"
      ],
      "text/plain": [
       "           Always     Never   Sometime\n",
       "Female  42.857143   9.52381  47.619048\n",
       "Male    47.142857  10.47619  52.380952"
      ]
     },
     "execution_count": 11,
     "metadata": {},
     "output_type": "execute_result"
    }
   ],
   "source": [
    "# Expected Frequency Table\n",
    "Expected_values = pd.DataFrame(ex, index=['Female', 'Male'], columns=['Always', 'Never', 'Sometime'])\n",
    "Expected_values"
   ]
  },
  {
   "cell_type": "markdown",
   "metadata": {},
   "source": [
    "### Conclusion\n",
    "Question : Sex & Reading E-book Relationship ?\n",
    "- Rccept Null Hypothesis(H0) >>> Sex & Reading E-book Relationship = Dependent\n",
    "\n",
    "    - ค่า Chi-square value (26.361363636363635)\n",
    "    - ค่า p-value (1.8866989973079415e-06)\n",
    "    - ค่า degree of freedom (2)\n",
    "    - ค่า Expected frequencies > 5 (array)"
   ]
  },
  {
   "cell_type": "markdown",
   "metadata": {},
   "source": [
    "---"
   ]
  }
 ],
 "metadata": {
  "kernelspec": {
   "display_name": "Python 3",
   "language": "python",
   "name": "python3"
  },
  "language_info": {
   "codemirror_mode": {
    "name": "ipython",
    "version": 3
   },
   "file_extension": ".py",
   "mimetype": "text/x-python",
   "name": "python",
   "nbconvert_exporter": "python",
   "pygments_lexer": "ipython3",
   "version": "3.6.7"
  }
 },
 "nbformat": 4,
 "nbformat_minor": 2
}
