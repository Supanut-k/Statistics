{
 "cells": [
  {
   "cell_type": "markdown",
   "metadata": {},
   "source": [
    "# Quantitative Data"
   ]
  },
  {
   "cell_type": "markdown",
   "metadata": {},
   "source": [
    "### Two-Sided \n",
    "$$H_0:\\mu =\\mu_0$$\n",
    "$$H_1:\\mu \\neq \\mu_0$$\n",
    "\n",
    "\n",
    "### Lower\n",
    "$$H_0:\\mu \\geq \\mu_0$$\n",
    "$$H_1:\\mu < \\mu_0$$\n",
    "\n",
    "\n",
    "\n",
    "### Upper\n",
    "$$H_0:\\mu \\leq \\mu_0$$\n",
    "$$H_1:\\mu > \\mu_0$$\n",
    "\n",
    "\n",
    "### P-value\n",
    " $$ P-Value < \\alpha$$\n",
    " $$ :Reject H_0$$"
   ]
  },
  {
   "cell_type": "markdown",
   "metadata": {},
   "source": [
    "## Z-Test\n",
    "- [Z-Test one sample](#Z-Test-One-Sample)\n",
    "- [Z-Test two sample](#Z-Test-Two-Sample)"
   ]
  },
  {
   "cell_type": "markdown",
   "metadata": {},
   "source": [
    "# Z-Test One Sample"
   ]
  },
  {
   "cell_type": "code",
   "execution_count": 1,
   "metadata": {},
   "outputs": [],
   "source": [
    "import pandas as pd\n",
    "import numpy as np\n",
    "pd.set_option('display.max_columns', None)\n",
    "pd.set_option('display.max_rows', None)\n",
    "\n",
    "import matplotlib.pyplot as plt\n",
    "%matplotlib inline\n",
    "\n",
    "from scipy import stats\n",
    "from statsmodels.stats import weightstats as stests\n",
    "import seaborn as sns"
   ]
  },
  {
   "cell_type": "markdown",
   "metadata": {},
   "source": [
    "## Ex1: Mean customers = 30 ?\n",
    "SD = 15 years\n",
    "\n",
    "- $$H_0 : \\mu_1 = 30$$\n",
    "- $$H_1 : \\mu_1 \\neq 30$$"
   ]
  },
  {
   "cell_type": "code",
   "execution_count": 2,
   "metadata": {
    "scrolled": false
   },
   "outputs": [
    {
     "name": "stdout",
     "output_type": "stream",
     "text": [
      "(100, 32)\n"
     ]
    },
    {
     "data": {
      "text/html": [
       "<div>\n",
       "<style scoped>\n",
       "    .dataframe tbody tr th:only-of-type {\n",
       "        vertical-align: middle;\n",
       "    }\n",
       "\n",
       "    .dataframe tbody tr th {\n",
       "        vertical-align: top;\n",
       "    }\n",
       "\n",
       "    .dataframe thead th {\n",
       "        text-align: right;\n",
       "    }\n",
       "</style>\n",
       "<table border=\"1\" class=\"dataframe\">\n",
       "  <thead>\n",
       "    <tr style=\"text-align: right;\">\n",
       "      <th></th>\n",
       "      <th>age</th>\n",
       "    </tr>\n",
       "  </thead>\n",
       "  <tbody>\n",
       "    <tr>\n",
       "      <th>count</th>\n",
       "      <td>100.000000</td>\n",
       "    </tr>\n",
       "    <tr>\n",
       "      <th>mean</th>\n",
       "      <td>36.710000</td>\n",
       "    </tr>\n",
       "    <tr>\n",
       "      <th>std</th>\n",
       "      <td>14.699203</td>\n",
       "    </tr>\n",
       "    <tr>\n",
       "      <th>min</th>\n",
       "      <td>10.000000</td>\n",
       "    </tr>\n",
       "    <tr>\n",
       "      <th>25%</th>\n",
       "      <td>27.000000</td>\n",
       "    </tr>\n",
       "    <tr>\n",
       "      <th>50%</th>\n",
       "      <td>33.000000</td>\n",
       "    </tr>\n",
       "    <tr>\n",
       "      <th>75%</th>\n",
       "      <td>47.000000</td>\n",
       "    </tr>\n",
       "    <tr>\n",
       "      <th>max</th>\n",
       "      <td>66.000000</td>\n",
       "    </tr>\n",
       "  </tbody>\n",
       "</table>\n",
       "</div>"
      ],
      "text/plain": [
       "              age\n",
       "count  100.000000\n",
       "mean    36.710000\n",
       "std     14.699203\n",
       "min     10.000000\n",
       "25%     27.000000\n",
       "50%     33.000000\n",
       "75%     47.000000\n",
       "max     66.000000"
      ]
     },
     "execution_count": 2,
     "metadata": {},
     "output_type": "execute_result"
    }
   ],
   "source": [
    "age_customer = pd.read_excel('Test-Z_Avg_1_pop.xlsx', sheet_name='ตาราง C', skiprows=1, index_col=1)\n",
    "age_customer.drop('Unnamed: 0', axis=1, inplace=True)\n",
    "print(age_customer.shape)\n",
    "\n",
    "age_customer[['age']].describe()"
   ]
  },
  {
   "cell_type": "code",
   "execution_count": 4,
   "metadata": {
    "scrolled": true
   },
   "outputs": [],
   "source": [
    "# Create Distribution\n",
    "def Distribution_plot(x, title):\n",
    "    mode = stats.mode(x)[0][0]\n",
    "    mean = np.mean(x)\n",
    "    median = np.median(x)\n",
    "\n",
    "    print('Mode:', mode)\n",
    "    print('Mean:', mean)\n",
    "    print('Median:', median)\n",
    "\n",
    "    sns.distplot(x, kde=True).set_title(title)\n",
    "    plt.axvline(x=mode, color='blue')\n",
    "    plt.axvline(x=mean, color='black')\n",
    "    plt.axvline(x=median, color='yellow')\n",
    "    plt.show();"
   ]
  },
  {
   "cell_type": "code",
   "execution_count": 6,
   "metadata": {
    "scrolled": false
   },
   "outputs": [
    {
     "name": "stdout",
     "output_type": "stream",
     "text": [
      "Mode: 32\n",
      "Mean: 36.71\n",
      "Median: 33.0\n"
     ]
    },
    {
     "data": {
      "image/png": "[encoded data removed]",
      "text/plain": [
       "<Figure size 432x288 with 1 Axes>"
      ]
     },
     "metadata": {
      "needs_background": "light"
     },
     "output_type": "display_data"
    }
   ],
   "source": [
    "Distribution_plot(age_customer['age'],'Age Distribution');"
   ]
  },
  {
   "cell_type": "code",
   "execution_count": 7,
   "metadata": {},
   "outputs": [
    {
     "data": {
      "text/plain": [
       "<matplotlib.axes._subplots.AxesSubplot at 0x226148ad0b8>"
      ]
     },
     "execution_count": 7,
     "metadata": {},
     "output_type": "execute_result"
    },
    {
     "data": {
      "image/png": "[encoded data removed]",
      "text/plain": [
       "<Figure size 432x288 with 1 Axes>"
      ]
     },
     "metadata": {
      "needs_background": "light"
     },
     "output_type": "display_data"
    }
   ],
   "source": [
    "sns.boxplot(data=age_customer, x=age_customer['age'], orient='v')"
   ]
  },
  {
   "cell_type": "code",
   "execution_count": 8,
   "metadata": {},
   "outputs": [
    {
     "data": {
      "text/plain": [
       "7.501524669351056e-05"
      ]
     },
     "execution_count": 8,
     "metadata": {},
     "output_type": "execute_result"
    }
   ],
   "source": [
    "# Test Normal Distribution (> 0.05)\n",
    "stats.shapiro(age_customer['age'])[1]"
   ]
  },
  {
   "cell_type": "code",
   "execution_count": 9,
   "metadata": {
    "scrolled": false
   },
   "outputs": [],
   "source": [
    "# Create fuction Z-test one sample\n",
    "def Ztest_Result(x1, x2, value_test, alternative):\n",
    "    ztest ,pval = stests.ztest(x1=x1, x2=x2, value=value_test, alternative=alternative)\n",
    "\n",
    "    pval_lower = 1-pval \n",
    "    pval_upper = pval\n",
    "    pval_two = (min(pval_lower, pval_upper))*2\n",
    "\n",
    "    print('========================================================[Z-Test]=============================================')\n",
    "    print('Z-Test: ',float(ztest))\n",
    "    print('\\n')\n",
    "\n",
    "    print('========================================================[P-Value]============================================')\n",
    "    print('P-Value(lower-tail): ', float(pval_lower))\n",
    "    print('P-Value(upper-tail): ', float(pval_upper))\n",
    "    print('P-Value(two-tail): ', float(pval_two))\n",
    "    print('\\n')\n",
    "\n",
    "    print('========================================================[Result]=============================================')\n",
    "    \n",
    "    # interpret p-vale\n",
    "    \n",
    "    ptest = {'two-sided':pval_two, 'larger':pval_upper, 'smaller':pval_lower}\n",
    "    if alternative in ptest:\n",
    "        pvale = ptest[alternative]\n",
    "        if pval < 0.05:\n",
    "            print(\"Reject Null Hypothesis(H0)\")\n",
    "        else:\n",
    "            print(\"Accept Null Hypothesis(H0)\")"
   ]
  },
  {
   "cell_type": "code",
   "execution_count": 10,
   "metadata": {
    "scrolled": true
   },
   "outputs": [
    {
     "name": "stdout",
     "output_type": "stream",
     "text": [
      "========================================================[Z-Test]=============================================\n",
      "Z-Test:  4.564873380792669\n",
      "\n",
      "\n",
      "========================================================[P-Value]============================================\n",
      "P-Value(lower-tail):  0.9999950020409188\n",
      "P-Value(upper-tail):  4.997959081131708e-06\n",
      "P-Value(two-tail):  9.995918162263416e-06\n",
      "\n",
      "\n",
      "========================================================[Result]=============================================\n",
      "Reject Null Hypothesis(H0)\n"
     ]
    }
   ],
   "source": [
    "Ztest_Result(x1=age_customer['age'], x2=None, value_test=30, alternative='two-sided')"
   ]
  },
  {
   "cell_type": "markdown",
   "metadata": {},
   "source": [
    "### Conclusion\n",
    "Question : Mean customers = 30 ?\n",
    "- Reject Null Hypothesis(H0) >>> Mean customer age != 30 (H1)"
   ]
  },
  {
   "cell_type": "markdown",
   "metadata": {},
   "source": [
    "---"
   ]
  },
  {
   "cell_type": "markdown",
   "metadata": {},
   "source": [
    "# Z-Test Two Sample"
   ]
  },
  {
   "cell_type": "markdown",
   "metadata": {},
   "source": [
    "## Ex2: Mean scores M = W ?\n",
    "SD^2 (M) = 8 scores\n",
    "\n",
    "SD^2 (W) = 9 scores\n",
    "\n",
    "- $$H_0 : \\mu_1 -\\mu_2 = 0$$\n",
    "- $$H_1 : \\mu_1 -\\mu_2 \\neq 0$$"
   ]
  },
  {
   "cell_type": "code",
   "execution_count": 11,
   "metadata": {
    "scrolled": false
   },
   "outputs": [
    {
     "name": "stdout",
     "output_type": "stream",
     "text": [
      "(100, 15)\n"
     ]
    },
    {
     "data": {
      "text/html": [
       "<div>\n",
       "<style scoped>\n",
       "    .dataframe tbody tr th:only-of-type {\n",
       "        vertical-align: middle;\n",
       "    }\n",
       "\n",
       "    .dataframe tbody tr th {\n",
       "        vertical-align: top;\n",
       "    }\n",
       "\n",
       "    .dataframe thead th {\n",
       "        text-align: right;\n",
       "    }\n",
       "</style>\n",
       "<table border=\"1\" class=\"dataframe\">\n",
       "  <thead>\n",
       "    <tr style=\"text-align: right;\">\n",
       "      <th></th>\n",
       "      <th>posttest</th>\n",
       "    </tr>\n",
       "  </thead>\n",
       "  <tbody>\n",
       "    <tr>\n",
       "      <th>count</th>\n",
       "      <td>100.000000</td>\n",
       "    </tr>\n",
       "    <tr>\n",
       "      <th>mean</th>\n",
       "      <td>31.560000</td>\n",
       "    </tr>\n",
       "    <tr>\n",
       "      <th>std</th>\n",
       "      <td>3.066008</td>\n",
       "    </tr>\n",
       "    <tr>\n",
       "      <th>min</th>\n",
       "      <td>27.000000</td>\n",
       "    </tr>\n",
       "    <tr>\n",
       "      <th>25%</th>\n",
       "      <td>29.000000</td>\n",
       "    </tr>\n",
       "    <tr>\n",
       "      <th>50%</th>\n",
       "      <td>31.000000</td>\n",
       "    </tr>\n",
       "    <tr>\n",
       "      <th>75%</th>\n",
       "      <td>33.000000</td>\n",
       "    </tr>\n",
       "    <tr>\n",
       "      <th>max</th>\n",
       "      <td>38.000000</td>\n",
       "    </tr>\n",
       "  </tbody>\n",
       "</table>\n",
       "</div>"
      ],
      "text/plain": [
       "         posttest\n",
       "count  100.000000\n",
       "mean    31.560000\n",
       "std      3.066008\n",
       "min     27.000000\n",
       "25%     29.000000\n",
       "50%     31.000000\n",
       "75%     33.000000\n",
       "max     38.000000"
      ]
     },
     "execution_count": 11,
     "metadata": {},
     "output_type": "execute_result"
    }
   ],
   "source": [
    "score_sex = pd.read_excel('Test-Z_Avg_2_pop.xlsx', sheet_name='ตาราง C', skiprows=1, index_col=1)\n",
    "score_sex.drop('Unnamed: 0', axis=1, inplace=True)\n",
    "print(score_sex.shape)\n",
    "\n",
    "score_sex = score_sex[['sex', 'posttest']]\n",
    "score_sex['sex'].replace(to_replace=['ชาย', 'หญิง'], value=['Male', 'Female'], inplace=True)\n",
    "\n",
    "score_sex[['posttest']].describe()"
   ]
  },
  {
   "cell_type": "code",
   "execution_count": 12,
   "metadata": {
    "scrolled": true
   },
   "outputs": [
    {
     "data": {
      "text/html": [
       "<div>\n",
       "<style scoped>\n",
       "    .dataframe tbody tr th:only-of-type {\n",
       "        vertical-align: middle;\n",
       "    }\n",
       "\n",
       "    .dataframe tbody tr th {\n",
       "        vertical-align: top;\n",
       "    }\n",
       "\n",
       "    .dataframe thead th {\n",
       "        text-align: right;\n",
       "    }\n",
       "</style>\n",
       "<table border=\"1\" class=\"dataframe\">\n",
       "  <thead>\n",
       "    <tr style=\"text-align: right;\">\n",
       "      <th></th>\n",
       "      <th>sex</th>\n",
       "      <th>posttest</th>\n",
       "    </tr>\n",
       "    <tr>\n",
       "      <th>id</th>\n",
       "      <th></th>\n",
       "      <th></th>\n",
       "    </tr>\n",
       "  </thead>\n",
       "  <tbody>\n",
       "    <tr>\n",
       "      <th>1</th>\n",
       "      <td>Male</td>\n",
       "      <td>29</td>\n",
       "    </tr>\n",
       "    <tr>\n",
       "      <th>2</th>\n",
       "      <td>Male</td>\n",
       "      <td>29</td>\n",
       "    </tr>\n",
       "    <tr>\n",
       "      <th>4</th>\n",
       "      <td>Male</td>\n",
       "      <td>36</td>\n",
       "    </tr>\n",
       "    <tr>\n",
       "      <th>7</th>\n",
       "      <td>Male</td>\n",
       "      <td>32</td>\n",
       "    </tr>\n",
       "    <tr>\n",
       "      <th>8</th>\n",
       "      <td>Male</td>\n",
       "      <td>28</td>\n",
       "    </tr>\n",
       "  </tbody>\n",
       "</table>\n",
       "</div>"
      ],
      "text/plain": [
       "     sex  posttest\n",
       "id                \n",
       "1   Male        29\n",
       "2   Male        29\n",
       "4   Male        36\n",
       "7   Male        32\n",
       "8   Male        28"
      ]
     },
     "execution_count": 12,
     "metadata": {},
     "output_type": "execute_result"
    }
   ],
   "source": [
    "score_sex.head()"
   ]
  },
  {
   "cell_type": "code",
   "execution_count": 13,
   "metadata": {},
   "outputs": [
    {
     "data": {
      "text/plain": [
       "<matplotlib.axes._subplots.AxesSubplot at 0x226148c3898>"
      ]
     },
     "execution_count": 13,
     "metadata": {},
     "output_type": "execute_result"
    },
    {
     "data": {
      "image/png": "[encoded data removed]",
      "text/plain": [
       "<Figure size 432x288 with 1 Axes>"
      ]
     },
     "metadata": {
      "needs_background": "light"
     },
     "output_type": "display_data"
    }
   ],
   "source": [
    "sns.boxplot(data=score_sex, x='sex', y='posttest')"
   ]
  },
  {
   "cell_type": "code",
   "execution_count": 17,
   "metadata": {},
   "outputs": [],
   "source": [
    "# Split segments\n",
    "score_male = score_sex[score_sex['sex'] == 'Male'][['posttest']]\n",
    "score_female = score_sex[score_sex['sex'] == 'Female'][['posttest']]"
   ]
  },
  {
   "cell_type": "code",
   "execution_count": 19,
   "metadata": {
    "scrolled": true
   },
   "outputs": [
    {
     "name": "stdout",
     "output_type": "stream",
     "text": [
      "Mode: 29\n",
      "Mean: 32.1875\n",
      "Median: 31.5\n"
     ]
    },
    {
     "data": {
      "image/png": "[encoded data removed]",
      "text/plain": [
       "<Figure size 432x288 with 1 Axes>"
      ]
     },
     "metadata": {
      "needs_background": "light"
     },
     "output_type": "display_data"
    },
    {
     "name": "stdout",
     "output_type": "stream",
     "text": [
      "Mode: 29\n",
      "Mean: 30.98076923076923\n",
      "Median: 30.5\n"
     ]
    },
    {
     "data": {
      "image/png": "[encoded data removed]",
      "text/plain": [
       "<Figure size 432x288 with 1 Axes>"
      ]
     },
     "metadata": {
      "needs_background": "light"
     },
     "output_type": "display_data"
    }
   ],
   "source": [
    "Distribution_plot(score_female['posttest'], 'Female-Posttest');\n",
    "Distribution_plot(score_male['posttest'], 'Male-Posttest');"
   ]
  },
  {
   "cell_type": "code",
   "execution_count": 36,
   "metadata": {
    "scrolled": false
   },
   "outputs": [
    {
     "name": "stdout",
     "output_type": "stream",
     "text": [
      "====================================================[Z-Test]===========================================\n",
      "Z-Test: -1.9957481428760744\n",
      "Reject Null Hypothesis(H0)\n",
      "\n",
      "\n",
      "====================================================[P-Value]==========================================\n",
      "P-Value:  0.045961343929164726\n",
      "Reject Null Hypothesis(H0)\n"
     ]
    }
   ],
   "source": [
    "ztest ,pval1 = stests.ztest(x1=score_male['posttest'], x2=score_female['posttest'],\n",
    "                            value=0, alternative='two-sided')\n",
    "\n",
    "print('====================================================[Z-Test]===========================================')\n",
    "print('Z-Test:', float(ztest))\n",
    "\n",
    "# interpret z-test\n",
    "# alpha level of 0.05 and two-tailed test\n",
    "z_critical_two_tail = 1.96\n",
    "if abs(ztest) > z_critical_two_tail:\n",
    "    print(\"Reject Null Hypothesis(H0)\")\n",
    "else:\n",
    "    print(\"Accept Null Hypothesis(H0)\")\n",
    "\n",
    "print('\\n')\n",
    "print('====================================================[P-Value]==========================================')\n",
    "print('P-Value: ', float(pval1))\n",
    "# interpret p-vale\n",
    "if pval1 < 0.05:\n",
    "    print(\"Reject Null Hypothesis(H0)\")\n",
    "else:\n",
    "    print(\"Accept Null Hypothesis(H0)\") \n"
   ]
  },
  {
   "cell_type": "markdown",
   "metadata": {},
   "source": [
    "### Conclusion\n",
    "Question : Mean scores M = W ?\n",
    "- Reject Null Hypothesis(H0) >>> Mean scores M != W (H1)"
   ]
  }
 ],
 "metadata": {
  "kernelspec": {
   "display_name": "Python 3",
   "language": "python",
   "name": "python3"
  },
  "language_info": {
   "codemirror_mode": {
    "name": "ipython",
    "version": 3
   },
   "file_extension": ".py",
   "mimetype": "text/x-python",
   "name": "python",
   "nbconvert_exporter": "python",
   "pygments_lexer": "ipython3",
   "version": "3.6.7"
  }
 },
 "nbformat": 4,
 "nbformat_minor": 2
}
