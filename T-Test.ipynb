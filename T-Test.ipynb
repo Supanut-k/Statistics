{
 "cells": [
  {
   "cell_type": "markdown",
   "metadata": {},
   "source": [
    "# Quantitative Data\n",
    "\n",
    "## [One sample T-Test](#One-Sample-T-Test)\n",
    "- [Ex1](#Ex1:-Average-Student-Scores->-30-?)\n",
    "\n",
    "\n",
    "## [Independent T-Test](#Independent-T-Test-Two-Sample-(Mean) )\n",
    "- [Ex1](#Ex1:-Average-Male-Incomes-<-Average-Female-Incomes-?) \n",
    "- [Ex2](#Ex2:-Male's-Pre-Test-Scores->-Female's-Post-Test-Female-Scores-?)\n",
    "\n",
    "## [Paired T-Test](#Paired-T-Test-Two-Sample-(Mean) )\n",
    "- [Ex1](#Ex1:-Students'-Per-test-scores-<-Students'-Post-test-scores-?)\n",
    "- [Ex2](#Ex2:-Before-Training-Scores-<-After-Training-Scores-?)\n"
   ]
  },
  {
   "cell_type": "code",
   "execution_count": 1,
   "metadata": {},
   "outputs": [],
   "source": [
    "import pandas as pd\n",
    "import numpy as np\n",
    "pd.set_option('display.max_columns', None)\n",
    "pd.set_option('display.max_rows', None)\n",
    "\n",
    "import matplotlib.pyplot as plt\n",
    "%matplotlib inline\n",
    "\n",
    "from scipy import stats\n",
    "#from statsmodels.stats import weightstats as stests\n",
    "import seaborn as sns"
   ]
  },
  {
   "cell_type": "markdown",
   "metadata": {},
   "source": [
    "# One Sample T-Test (Mean)"
   ]
  },
  {
   "cell_type": "markdown",
   "metadata": {},
   "source": [
    "## Ex1: Average Student Scores > 30 ?\n",
    "\n",
    "- $$H_0 : \\mu <= 3.00$$\n",
    "- $$H_1 : \\mu > 3.00$$"
   ]
  },
  {
   "cell_type": "code",
   "execution_count": 2,
   "metadata": {
    "scrolled": false
   },
   "outputs": [
    {
     "data": {
      "text/html": [
       "<div>\n",
       "<style scoped>\n",
       "    .dataframe tbody tr th:only-of-type {\n",
       "        vertical-align: middle;\n",
       "    }\n",
       "\n",
       "    .dataframe tbody tr th {\n",
       "        vertical-align: top;\n",
       "    }\n",
       "\n",
       "    .dataframe thead th {\n",
       "        text-align: right;\n",
       "    }\n",
       "</style>\n",
       "<table border=\"1\" class=\"dataframe\">\n",
       "  <thead>\n",
       "    <tr style=\"text-align: right;\">\n",
       "      <th></th>\n",
       "      <th>grade</th>\n",
       "    </tr>\n",
       "  </thead>\n",
       "  <tbody>\n",
       "    <tr>\n",
       "      <th>count</th>\n",
       "      <td>100.00000</td>\n",
       "    </tr>\n",
       "    <tr>\n",
       "      <th>mean</th>\n",
       "      <td>3.18230</td>\n",
       "    </tr>\n",
       "    <tr>\n",
       "      <th>std</th>\n",
       "      <td>0.91587</td>\n",
       "    </tr>\n",
       "    <tr>\n",
       "      <th>min</th>\n",
       "      <td>2.20000</td>\n",
       "    </tr>\n",
       "    <tr>\n",
       "      <th>25%</th>\n",
       "      <td>2.84000</td>\n",
       "    </tr>\n",
       "    <tr>\n",
       "      <th>50%</th>\n",
       "      <td>3.09000</td>\n",
       "    </tr>\n",
       "    <tr>\n",
       "      <th>75%</th>\n",
       "      <td>3.37000</td>\n",
       "    </tr>\n",
       "    <tr>\n",
       "      <th>max</th>\n",
       "      <td>9.00000</td>\n",
       "    </tr>\n",
       "  </tbody>\n",
       "</table>\n",
       "</div>"
      ],
      "text/plain": [
       "           grade\n",
       "count  100.00000\n",
       "mean     3.18230\n",
       "std      0.91587\n",
       "min      2.20000\n",
       "25%      2.84000\n",
       "50%      3.09000\n",
       "75%      3.37000\n",
       "max      9.00000"
      ]
     },
     "execution_count": 2,
     "metadata": {},
     "output_type": "execute_result"
    }
   ],
   "source": [
    "test_score = pd.read_excel('t-test one sample.xlsx', sheet_name='ตาราง C', skiprows=1)\n",
    "test_score.drop('Unnamed: 0', axis=1, inplace=True)\n",
    "\n",
    "test_score[['grade']].describe()"
   ]
  },
  {
   "cell_type": "code",
   "execution_count": 3,
   "metadata": {},
   "outputs": [
    {
     "data": {
      "text/plain": [
       "<matplotlib.axes._subplots.AxesSubplot at 0x22af70a4c88>"
      ]
     },
     "execution_count": 3,
     "metadata": {},
     "output_type": "execute_result"
    },
    {
     "data": {
      "image/png": "[encoded data removed]",
      "text/plain": [
       "<Figure size 432x288 with 1 Axes>"
      ]
     },
     "metadata": {
      "needs_background": "light"
     },
     "output_type": "display_data"
    }
   ],
   "source": [
    "sns.boxplot(data=test_score, x='grade', orient='v', width=0.3)"
   ]
  },
  {
   "cell_type": "code",
   "execution_count": 5,
   "metadata": {
    "scrolled": false
   },
   "outputs": [
    {
     "data": {
      "image/png": "[encoded data removed]",
      "text/plain": [
       "<Figure size 432x288 with 1 Axes>"
      ]
     },
     "metadata": {
      "needs_background": "light"
     },
     "output_type": "display_data"
    }
   ],
   "source": [
    "sns.distplot(a=test_score['grade']).set_title('Grade');"
   ]
  },
  {
   "cell_type": "markdown",
   "metadata": {},
   "source": [
    "## T-Test"
   ]
  },
  {
   "cell_type": "code",
   "execution_count": 6,
   "metadata": {},
   "outputs": [],
   "source": [
    "def T_test_one(x, popmean, stats_test='two-sided'):\n",
    "    one_ttest, pval_two = stats.ttest_1samp(a=x, popmean=popmean)\n",
    "    \n",
    "    dof = x.size-1\n",
    "    pval_upper = pval_two/2 \n",
    "    pval_lower = 1-pval_upper\n",
    "    \n",
    "    tcrit = stats.t.ppf(0.05, dof)\n",
    "    \n",
    "    \n",
    "    print('===================================================[Degree of freedom]===========================================')\n",
    "    print('Degree of freedom: ', dof)\n",
    "    \n",
    "    print('========================================================[T-Test]=================================================')\n",
    "    \n",
    "    types_test = {'left':tcrit, 'right': abs(float(tcrit)), 'two_side': abs(float(tcrit))}\n",
    "    \n",
    "    t_crits = types_test[stats_test]        \n",
    "    print('T-Test: ', float(one_ttest))\n",
    "    print('T-Critical: ', float(t_crits))\n",
    "    \n",
    "    if stats_test == 'left':\n",
    "        left_test = {'left':[print(\"Reject Null Hypothesis(H0)\") \n",
    "                             if one_ttest < t_crits else print(\"Accept Null Hypothesis(H0)\")]} \n",
    "    else:\n",
    "        right_test = {'right':[print(\"Reject Null Hypothesis(H0)\") \n",
    "                               if one_ttest > t_crits else print(\"Accept Null Hypothesis(H0)\")]}    \n",
    "        \n",
    "   \n",
    "    print('========================================================[P-Value]================================================')\n",
    "    print('P-Value(upper-tail): ', float(pval_lower))\n",
    "    print('P-Value(upper-tail): ', float(pval_upper))\n",
    "    print('P-Value(two-tail): ', float(pval_two))\n",
    "    \n",
    "    ptest = {'right':pval_upper, 'left':pval_lower, 'two-sided':pval_two}\n",
    "    if stats_test in ptest:\n",
    "        pvale = ptest[stats_test]\n",
    "        if pvale < 0.05:\n",
    "            print(\"Reject Null Hypothesis(H0)\")\n",
    "        else:\n",
    "            print(\"Accept Null Hypothesis(H0)\")"
   ]
  },
  {
   "cell_type": "code",
   "execution_count": 7,
   "metadata": {
    "scrolled": true
   },
   "outputs": [
    {
     "name": "stdout",
     "output_type": "stream",
     "text": [
      "===================================================[Degree of freedom]===========================================\n",
      "Degree of freedom:  99\n",
      "========================================================[T-Test]=================================================\n",
      "T-Test:  1.9904571229970796\n",
      "T-Critical:  1.6603911559963902\n",
      "Reject Null Hypothesis(H0)\n",
      "========================================================[P-Value]================================================\n",
      "P-Value(upper-tail):  0.9753512026195852\n",
      "P-Value(upper-tail):  0.024648797380414787\n",
      "P-Value(two-tail):  0.04929759476082957\n",
      "Reject Null Hypothesis(H0)\n"
     ]
    }
   ],
   "source": [
    "T_test_one(test_score['grade'], popmean=3, stats_test='right')"
   ]
  },
  {
   "cell_type": "markdown",
   "metadata": {},
   "source": [
    "### Conclusion\n",
    "Question : Average Student Scores > 30 ?\n",
    "- Reject Null Hypothesis(H0) >>> Average Student Scores > 30 (H1)"
   ]
  },
  {
   "cell_type": "markdown",
   "metadata": {},
   "source": [
    "----"
   ]
  },
  {
   "cell_type": "markdown",
   "metadata": {},
   "source": [
    "# Independent T-Test Two Sample (Mean)"
   ]
  },
  {
   "cell_type": "markdown",
   "metadata": {},
   "source": [
    "- $$H_0 : \\mu_1 >= \\mu_2$$\n",
    "- $$H_1 : \\mu_1 < \\mu_2$$"
   ]
  },
  {
   "cell_type": "markdown",
   "metadata": {},
   "source": [
    "## Ex1: Average Male Incomes < Average Female Incomes ? \n"
   ]
  },
  {
   "cell_type": "markdown",
   "metadata": {},
   "source": [
    "- $$H_0 : Average Male Incomes (\\mu_1) >= Average Female Incomes (\\mu_2)$$\n",
    "- $$H_1 : Average Male Incomes (\\mu_1) < Average Female Incomes (\\mu_2)$$"
   ]
  },
  {
   "cell_type": "code",
   "execution_count": 8,
   "metadata": {
    "scrolled": false
   },
   "outputs": [
    {
     "data": {
      "text/html": [
       "<div>\n",
       "<style scoped>\n",
       "    .dataframe tbody tr th:only-of-type {\n",
       "        vertical-align: middle;\n",
       "    }\n",
       "\n",
       "    .dataframe tbody tr th {\n",
       "        vertical-align: top;\n",
       "    }\n",
       "\n",
       "    .dataframe thead th {\n",
       "        text-align: right;\n",
       "    }\n",
       "</style>\n",
       "<table border=\"1\" class=\"dataframe\">\n",
       "  <thead>\n",
       "    <tr style=\"text-align: right;\">\n",
       "      <th></th>\n",
       "      <th>sex</th>\n",
       "      <th>salary</th>\n",
       "    </tr>\n",
       "  </thead>\n",
       "  <tbody>\n",
       "    <tr>\n",
       "      <th>0</th>\n",
       "      <td>Male</td>\n",
       "      <td>3000</td>\n",
       "    </tr>\n",
       "    <tr>\n",
       "      <th>1</th>\n",
       "      <td>Male</td>\n",
       "      <td>8000</td>\n",
       "    </tr>\n",
       "    <tr>\n",
       "      <th>2</th>\n",
       "      <td>Male</td>\n",
       "      <td>14000</td>\n",
       "    </tr>\n",
       "    <tr>\n",
       "      <th>3</th>\n",
       "      <td>Male</td>\n",
       "      <td>9000</td>\n",
       "    </tr>\n",
       "    <tr>\n",
       "      <th>4</th>\n",
       "      <td>Male</td>\n",
       "      <td>5000</td>\n",
       "    </tr>\n",
       "  </tbody>\n",
       "</table>\n",
       "</div>"
      ],
      "text/plain": [
       "    sex  salary\n",
       "0  Male    3000\n",
       "1  Male    8000\n",
       "2  Male   14000\n",
       "3  Male    9000\n",
       "4  Male    5000"
      ]
     },
     "execution_count": 8,
     "metadata": {},
     "output_type": "execute_result"
    }
   ],
   "source": [
    "test_var = pd.read_excel('independent-t-test two sample.xlsx', sheet_name='ตาราง C', skiprows=1)\n",
    "test_var.drop('Unnamed: 0', axis=1, inplace=True)\n",
    "\n",
    "# Select  interested columns\n",
    "ttest_var = test_var.loc[:,['sex', 'salary']]\n",
    "ttest_var['sex'].replace(to_replace=['ชาย', 'หญิง'], value=['Male', 'Female'], inplace=True)\n",
    "ttest_var.head()"
   ]
  },
  {
   "cell_type": "code",
   "execution_count": 9,
   "metadata": {},
   "outputs": [
    {
     "data": {
      "text/plain": [
       "<matplotlib.axes._subplots.AxesSubplot at 0x22af85c72b0>"
      ]
     },
     "execution_count": 9,
     "metadata": {},
     "output_type": "execute_result"
    },
    {
     "data": {
      "image/png": "[encoded data removed]",
      "text/plain": [
       "<Figure size 432x288 with 1 Axes>"
      ]
     },
     "metadata": {
      "needs_background": "light"
     },
     "output_type": "display_data"
    }
   ],
   "source": [
    "sns.boxplot(data=ttest_var, x='sex', y='salary')"
   ]
  },
  {
   "cell_type": "code",
   "execution_count": 10,
   "metadata": {},
   "outputs": [],
   "source": [
    "# Create function BoxPlot\n",
    "def Box_plot(x, title):\n",
    "    mode = stats.mode(x)[0][0]\n",
    "    mean = np.mean(x)\n",
    "    median = np.median(x)\n",
    "\n",
    "    print('Mode:', mode)\n",
    "    print('Mean:', mean)\n",
    "    print('Median:', median)\n",
    "\n",
    "    sns.boxplot(x, orient='v').set_title(title)\n",
    "    plt.axvline(x=mode, color='blue')\n",
    "    plt.axvline(x=mean, color='black')\n",
    "    plt.axvline(x=median, color='yellow')\n",
    "    plt.show();"
   ]
  },
  {
   "cell_type": "code",
   "execution_count": 11,
   "metadata": {
    "scrolled": true
   },
   "outputs": [
    {
     "name": "stdout",
     "output_type": "stream",
     "text": [
      "Mode: 8000\n",
      "Mean: 10546.296296296296\n",
      "Median: 9000.0\n"
     ]
    },
    {
     "data": {
      "image/png": "[encoded data removed]",
      "text/plain": [
       "<Figure size 432x288 with 1 Axes>"
      ]
     },
     "metadata": {
      "needs_background": "light"
     },
     "output_type": "display_data"
    },
    {
     "name": "stdout",
     "output_type": "stream",
     "text": [
      "Mode: 8000\n",
      "Mean: 11739.130434782608\n",
      "Median: 9500.0\n"
     ]
    },
    {
     "data": {
      "image/png": "[encoded data removed]",
      "text/plain": [
       "<Figure size 432x288 with 1 Axes>"
      ]
     },
     "metadata": {
      "needs_background": "light"
     },
     "output_type": "display_data"
    }
   ],
   "source": [
    "pop_male = ttest_var[ttest_var['sex'] == 'Male'][['salary']]\n",
    "pop_female = ttest_var[ttest_var['sex'] == 'Female'][['salary']]\n",
    "\n",
    "# use Boxplot function\n",
    "Box_plot(test_var[test_var['sex'] == 'ชาย']['salary'], 'Male')\n",
    "Box_plot(test_var[test_var['sex'] == 'หญิง']['salary'], 'Female')"
   ]
  },
  {
   "cell_type": "code",
   "execution_count": 12,
   "metadata": {},
   "outputs": [],
   "source": [
    "# Create Distribution function\n",
    "def Distribution_plot(x, title):\n",
    "    mode = stats.mode(x)[0][0]\n",
    "    mean = np.mean(x)\n",
    "    median = np.median(x)\n",
    "\n",
    "    print('Mode:', mode)\n",
    "    print('Mean:', mean)\n",
    "    print('Median:', median)\n",
    "\n",
    "    sns.distplot(x, kde=True).set_title(title)\n",
    "    plt.axvline(x=mode, color='blue')\n",
    "    plt.axvline(x=mean, color='black')\n",
    "    plt.axvline(x=median, color='yellow')\n",
    "    plt.show();"
   ]
  },
  {
   "cell_type": "code",
   "execution_count": 13,
   "metadata": {
    "scrolled": true
   },
   "outputs": [
    {
     "name": "stdout",
     "output_type": "stream",
     "text": [
      "Mode: 8000\n",
      "Mean: 11095.0\n",
      "Median: 9000.0\n"
     ]
    },
    {
     "data": {
      "image/png": "[encoded data removed]",
      "text/plain": [
       "<Figure size 432x288 with 1 Axes>"
      ]
     },
     "metadata": {
      "needs_background": "light"
     },
     "output_type": "display_data"
    },
    {
     "name": "stdout",
     "output_type": "stream",
     "text": [
      "Mode: 8000\n",
      "Mean: 11095.0\n",
      "Median: 9000.0\n"
     ]
    },
    {
     "data": {
      "image/png": "[encoded data removed]",
      "text/plain": [
       "<Figure size 432x288 with 1 Axes>"
      ]
     },
     "metadata": {
      "needs_background": "light"
     },
     "output_type": "display_data"
    }
   ],
   "source": [
    "# Examine salary\n",
    "Distribution_plot(x=ttest_var['salary'], title='Salary');\n",
    "Box_plot(ttest_var['salary'], 'Salary')"
   ]
  },
  {
   "cell_type": "markdown",
   "metadata": {},
   "source": [
    "## Test Variance Two Sample"
   ]
  },
  {
   "cell_type": "markdown",
   "metadata": {},
   "source": [
    "- $$H_0 : \\sigma_1^2 = \\sigma_2^2$$\n",
    "- $$H_1 : \\sigma_1^2 \\neq \\sigma_2^2$$"
   ]
  },
  {
   "cell_type": "code",
   "execution_count": 14,
   "metadata": {},
   "outputs": [],
   "source": [
    "# Create function for checking of variance that is equal or unequal\n",
    "def Check_Variance(x1, x2, types):\n",
    "    type_check = {'equal':0.05, 'unequal':0.95}\n",
    "    \n",
    "    if x1.shape[0] > x2.shape[0]:\n",
    "        F_test = np.var(x1)/np.var(x2)\n",
    "        F_Critical = stats.f.ppf(type_check[types], x1.shape[0]-1, x2.shape[0]-1)\n",
    "        dof = (x1.var()/x1.size + x2.var()/x2.size)**2 / ((x1.var()/x1.size)**2 / (x1.size-1) + (x2.var()/x2.size)**2 / (x2.size-1))\n",
    "    else:\n",
    "        F_test = np.var(x2)/np.var(x1)\n",
    "        F_Critical = stats.f.ppf(type_check[types], x2.shape[0]-1, x1.shape[0]-1)\n",
    "        dof = (x2.var()/x2.size + x1.var()/x1.size)**2 / ((x2.var()/x2.size)**2 / (x2.size-1) + (x1.var()/x1.size)**2 / (x1.size-1))\n",
    "\n",
    "        \n",
    "    if float(F_test) < 1:\n",
    "        if float(F_test) < F_Critical:\n",
    "            hypoths = \"Reject Null Hypothesis(H0) : Variance Different\"\n",
    "        else:\n",
    "            hypoths = \"Accept Null Hypothesis(H0) : Variance Not Different\"        \n",
    "    else:\n",
    "        if float(F_test) > F_Critical:\n",
    "            hypoths = \"Reject Null Hypothesis(H0) : Variance Different\"\n",
    "        else:\n",
    "            hypoths = \"Accept Null Hypothesis(H0) : Variance Not Different\"  \n",
    "            \n",
    "\n",
    "    return float(F_test), float(F_Critical), hypoths, int(round(dof,0))"
   ]
  },
  {
   "cell_type": "markdown",
   "metadata": {},
   "source": [
    "## Independent T-Test Two Sample"
   ]
  },
  {
   "cell_type": "markdown",
   "metadata": {},
   "source": [
    "- $$H_0 : \\mu_1 >= \\mu_2$$\n",
    "- $$H_1 : \\mu_1 < \\mu_2$$"
   ]
  },
  {
   "cell_type": "code",
   "execution_count": 15,
   "metadata": {},
   "outputs": [],
   "source": [
    "# Create Independent T-Test Two Sample\n",
    "def T_test_ind(x1, x2, equal_var, type_test, stats_test):\n",
    "    ttest, pval = stats.ttest_ind(x1, x2, equal_var=equal_var)\n",
    "    \n",
    "    pval_two = pval\n",
    "    pval_one = pval/2\n",
    "    \n",
    "    tcrit = stats.t.ppf(0.05, dof)\n",
    "    \n",
    "    \n",
    "    print('===================================================[Degree of freedom]===========================================')\n",
    "    print('Degree of freedom: ', dof)\n",
    "    \n",
    "    print('========================================================[T-Test]=================================================')\n",
    "    \n",
    "    types_test = {'left':tcrit, 'right': abs(float(tcrit)), 'two_side': abs(float(tcrit))}\n",
    "    \n",
    "    t_crits = types_test[stats_test]        \n",
    "    print('T-Test: ', float(ttest))\n",
    "    print('T-Critical: ', float(t_crits))\n",
    "    \n",
    "    if stats_test == 'left':\n",
    "        left_test = {'left':[print(\"Reject Null Hypothesis(H0)\") \n",
    "                             if ttest < t_crits else print(\"Accept Null Hypothesis(H0)\")]} \n",
    "    else:\n",
    "        right_test = {'right':[print(\"Reject Null Hypothesis(H0)\") \n",
    "                               if ttest > t_crits else print(\"Accept Null Hypothesis(H0)\")]}    \n",
    "        \n",
    "   \n",
    "    print('========================================================[P-Value]================================================')\n",
    "    print('P-Value(one-tail): ', float(pval_one))\n",
    "    print('P-Value(two-tail): ', float(pval_two))\n",
    "    \n",
    "    ptest = {'unequal':pval_one, 'equal':pval_two}\n",
    "    if type_test in ptest:\n",
    "        pvale = ptest[type_test]\n",
    "        if pval < 0.05:\n",
    "            print(\"Reject Null Hypothesis(H0)\")\n",
    "        else:\n",
    "            print(\"Accept Null Hypothesis(H0)\")\n",
    "            "
   ]
  },
  {
   "cell_type": "code",
   "execution_count": 16,
   "metadata": {
    "scrolled": true
   },
   "outputs": [
    {
     "name": "stdout",
     "output_type": "stream",
     "text": [
      "============ ============================================[F-Test]=================================================\n",
      "F-Test:  0.197572050631124\n",
      "F-Critical:  0.6244762440888396\n",
      "==================================================[Variance Hypothesis]==========================================\n",
      "Result Check Variance:  Reject Null Hypothesis(H0) : Variance Different\n",
      "\n",
      "\n",
      "===================================================[Degree of freedom]===========================================\n",
      "Degree of freedom:  60\n",
      "========================================================[T-Test]=================================================\n",
      "T-Test:  -0.6271854148601569\n",
      "T-Critical:  -1.6706488646505933\n",
      "Accept Null Hypothesis(H0)\n",
      "========================================================[P-Value]================================================\n",
      "P-Value(one-tail):  0.2664599511441542\n",
      "P-Value(two-tail):  0.5329199022883084\n",
      "Accept Null Hypothesis(H0)\n"
     ]
    }
   ],
   "source": [
    "# Result sets\n",
    "\n",
    "ftest, fcrit, hypoths, dof = Check_Variance(pop_male, pop_female, types='equal')\n",
    "\n",
    "print('============ ============================================[F-Test]=================================================')\n",
    "print('F-Test: ', float(ftest))\n",
    "print('F-Critical: ', float(fcrit))\n",
    "\n",
    "print('==================================================[Variance Hypothesis]==========================================')\n",
    "print('Result Check Variance: ', hypoths)\n",
    "print('\\n')\n",
    "\n",
    "\n",
    "T_test_ind(pop_male, pop_female, equal_var=False, type_test='unequal', stats_test='left')"
   ]
  },
  {
   "cell_type": "markdown",
   "metadata": {},
   "source": [
    "### Conclusion\n",
    "Question : Average Male Incomes < Average Female Incomes ?\n",
    "- Accept Null Hypothesis(H0) >>> Average Male Incomes >= Average Female Incomes (H0)"
   ]
  },
  {
   "cell_type": "markdown",
   "metadata": {},
   "source": [
    "----"
   ]
  },
  {
   "cell_type": "markdown",
   "metadata": {},
   "source": [
    "## Ex2: Male's Pre-Test Scores > Female's Post-Test Female Scores ?\n",
    "\n",
    "- $$H_0 : Male's Pre-Test Scores(\\mu_1) <= Female's Post-Test Female Scores(\\mu_2)$$\n",
    "- $$H_1 : Male's Pre-Test Scores(\\mu_1) > Female's Post-Test Female Scores(\\mu_2)$$"
   ]
  },
  {
   "cell_type": "code",
   "execution_count": 17,
   "metadata": {
    "scrolled": true
   },
   "outputs": [
    {
     "data": {
      "text/html": [
       "<div>\n",
       "<style scoped>\n",
       "    .dataframe tbody tr th:only-of-type {\n",
       "        vertical-align: middle;\n",
       "    }\n",
       "\n",
       "    .dataframe tbody tr th {\n",
       "        vertical-align: top;\n",
       "    }\n",
       "\n",
       "    .dataframe thead th {\n",
       "        text-align: right;\n",
       "    }\n",
       "</style>\n",
       "<table border=\"1\" class=\"dataframe\">\n",
       "  <thead>\n",
       "    <tr style=\"text-align: right;\">\n",
       "      <th></th>\n",
       "      <th>sex</th>\n",
       "      <th>pretest</th>\n",
       "    </tr>\n",
       "  </thead>\n",
       "  <tbody>\n",
       "    <tr>\n",
       "      <th>0</th>\n",
       "      <td>Male</td>\n",
       "      <td>21</td>\n",
       "    </tr>\n",
       "    <tr>\n",
       "      <th>1</th>\n",
       "      <td>Male</td>\n",
       "      <td>8</td>\n",
       "    </tr>\n",
       "    <tr>\n",
       "      <th>2</th>\n",
       "      <td>Male</td>\n",
       "      <td>18</td>\n",
       "    </tr>\n",
       "    <tr>\n",
       "      <th>3</th>\n",
       "      <td>Male</td>\n",
       "      <td>11</td>\n",
       "    </tr>\n",
       "    <tr>\n",
       "      <th>4</th>\n",
       "      <td>Male</td>\n",
       "      <td>18</td>\n",
       "    </tr>\n",
       "  </tbody>\n",
       "</table>\n",
       "</div>"
      ],
      "text/plain": [
       "    sex  pretest\n",
       "0  Male       21\n",
       "1  Male        8\n",
       "2  Male       18\n",
       "3  Male       11\n",
       "4  Male       18"
      ]
     },
     "execution_count": 17,
     "metadata": {},
     "output_type": "execute_result"
    }
   ],
   "source": [
    "test2_var = pd.read_excel('independent-t-test two sample-2.xlsx', sheet_name='ตาราง C', skiprows=1)\n",
    "test2_var.drop('Unnamed: 0', axis=1, inplace=True)\n",
    "\n",
    "# Select interested columns\n",
    "ttest_var = test2_var.loc[:, ['sex', 'pretest']]\n",
    "ttest_var['sex'] = ttest_var['sex'].map({'ชาย':'Male', 'หญิง':'Female'})\n",
    "ttest_var.head()"
   ]
  },
  {
   "cell_type": "code",
   "execution_count": 18,
   "metadata": {
    "scrolled": false
   },
   "outputs": [
    {
     "data": {
      "text/plain": [
       "<matplotlib.axes._subplots.AxesSubplot at 0x22af88959b0>"
      ]
     },
     "execution_count": 18,
     "metadata": {},
     "output_type": "execute_result"
    },
    {
     "data": {
      "image/png": "[encoded data removed]",
      "text/plain": [
       "<Figure size 432x288 with 1 Axes>"
      ]
     },
     "metadata": {
      "needs_background": "light"
     },
     "output_type": "display_data"
    }
   ],
   "source": [
    "sns.boxplot(data=ttest_var, x='sex', y='pretest')"
   ]
  },
  {
   "cell_type": "code",
   "execution_count": 19,
   "metadata": {},
   "outputs": [
    {
     "name": "stdout",
     "output_type": "stream",
     "text": [
      "Mode: 18\n",
      "Mean: 14.423076923076923\n",
      "Median: 14.0\n"
     ]
    },
    {
     "data": {
      "image/png": "[encoded data removed]",
      "text/plain": [
       "<Figure size 432x288 with 1 Axes>"
      ]
     },
     "metadata": {
      "needs_background": "light"
     },
     "output_type": "display_data"
    },
    {
     "name": "stdout",
     "output_type": "stream",
     "text": [
      "Mode: 13\n",
      "Mean: 12.541666666666666\n",
      "Median: 12.0\n"
     ]
    },
    {
     "data": {
      "image/png": "[encoded data removed]",
      "text/plain": [
       "<Figure size 432x288 with 1 Axes>"
      ]
     },
     "metadata": {
      "needs_background": "light"
     },
     "output_type": "display_data"
    }
   ],
   "source": [
    "pop_female2 = ttest_var[ttest_var['sex'] == 'Female']['pretest']\n",
    "pop_male2 = ttest_var[ttest_var['sex'] == 'Male']['pretest']\n",
    "\n",
    "Box_plot(pop_male2, 'Male')\n",
    "Box_plot(pop_female2, 'Female')"
   ]
  },
  {
   "cell_type": "code",
   "execution_count": 20,
   "metadata": {
    "scrolled": true
   },
   "outputs": [
    {
     "name": "stdout",
     "output_type": "stream",
     "text": [
      "Mode: 18\n",
      "Mean: 13.52\n",
      "Median: 13.0\n"
     ]
    },
    {
     "data": {
      "image/png": "[encoded data removed]",
      "text/plain": [
       "<Figure size 432x288 with 1 Axes>"
      ]
     },
     "metadata": {
      "needs_background": "light"
     },
     "output_type": "display_data"
    },
    {
     "name": "stdout",
     "output_type": "stream",
     "text": [
      "Mode: 18\n",
      "Mean: 13.52\n",
      "Median: 13.0\n"
     ]
    },
    {
     "data": {
      "image/png": "[encoded data removed]",
      "text/plain": [
       "<Figure size 432x288 with 1 Axes>"
      ]
     },
     "metadata": {
      "needs_background": "light"
     },
     "output_type": "display_data"
    }
   ],
   "source": [
    "# Examine Scores\n",
    "Distribution_plot(x=ttest_var['pretest'], title='Scores');\n",
    "Box_plot(ttest_var['pretest'], 'Scores')"
   ]
  },
  {
   "cell_type": "markdown",
   "metadata": {},
   "source": [
    "## Test Variance Two Sample"
   ]
  },
  {
   "cell_type": "markdown",
   "metadata": {},
   "source": [
    "- $$H_0 : \\sigma_1^2 = \\sigma_2^2$$\n",
    "- $$H_1 : \\sigma_1^2 \\neq \\sigma_2^2$$"
   ]
  },
  {
   "cell_type": "markdown",
   "metadata": {},
   "source": [
    "## Independent T-Test Two Sample"
   ]
  },
  {
   "cell_type": "markdown",
   "metadata": {},
   "source": [
    "- $$H_0 : \\mu_1 <= \\mu_2$$\n",
    "- $$H_1 : \\mu_1 > \\mu_2$$"
   ]
  },
  {
   "cell_type": "code",
   "execution_count": 21,
   "metadata": {
    "scrolled": true
   },
   "outputs": [
    {
     "name": "stdout",
     "output_type": "stream",
     "text": [
      "========================================================[F-Test]=================================================\n",
      "F-Test:  1.5401900222594687\n",
      "F-Critical:  1.6122353047432207\n",
      "\n",
      "\n",
      "==================================================[Variance Hypothesis]==========================================\n",
      "Result Check Variance:  Accept Null Hypothesis(H0) : Variance Not Different\n",
      "\n",
      "\n",
      "===================================================[Degree of freedom]===========================================\n",
      "Degree of freedom:  96\n",
      "========================================================[T-Test]=================================================\n",
      "T-Test:  2.014000945483352\n",
      "T-Critical:  1.6608814403008012\n",
      "Reject Null Hypothesis(H0)\n",
      "========================================================[P-Value]================================================\n",
      "P-Value(one-tail):  0.023375237004619343\n",
      "P-Value(two-tail):  0.046750474009238686\n",
      "Reject Null Hypothesis(H0)\n"
     ]
    }
   ],
   "source": [
    "# Result sets\n",
    "\n",
    "ftest, fcrit, hypoths, dof = Check_Variance(pop_male2, pop_female2, types='unequal')\n",
    "\n",
    "print('========================================================[F-Test]=================================================')\n",
    "print('F-Test: ', float(ftest))\n",
    "print('F-Critical: ', float(fcrit) )\n",
    "print('\\n')\n",
    "\n",
    "print('==================================================[Variance Hypothesis]==========================================')\n",
    "print('Result Check Variance: ', hypoths)\n",
    "print('\\n')\n",
    "\n",
    "\n",
    "T_test_ind(pop_male2, pop_female2, equal_var=True, type_test='unequal', stats_test='right')"
   ]
  },
  {
   "cell_type": "markdown",
   "metadata": {},
   "source": [
    "### Conclusion\n",
    "Question : Male's Pre-Test Scores > Female's Post-Test Female Scores ?\n",
    "- Reject Null Hypothesis(H0) >>> Pre-Test Male Scores > Pre-Test Female Scores (H1)"
   ]
  },
  {
   "cell_type": "markdown",
   "metadata": {},
   "source": [
    "----"
   ]
  },
  {
   "cell_type": "markdown",
   "metadata": {},
   "source": [
    "# Paired T-Test Two Sample (Mean)"
   ]
  },
  {
   "cell_type": "markdown",
   "metadata": {},
   "source": [
    "## Ex1: Students' Per-test scores < Students' Post-test scores ?\n",
    "\n",
    "- $$H_0 : Students' Per-test scores(\\mu_1) >= Students' Post-test scores(\\mu_2)$$\n",
    "- $$H_1 : Students' Per-test scores(\\mu_1) < Students' Post-test scores(\\mu_2)$$"
   ]
  },
  {
   "cell_type": "code",
   "execution_count": 22,
   "metadata": {
    "scrolled": true
   },
   "outputs": [
    {
     "data": {
      "text/html": [
       "<div>\n",
       "<style scoped>\n",
       "    .dataframe tbody tr th:only-of-type {\n",
       "        vertical-align: middle;\n",
       "    }\n",
       "\n",
       "    .dataframe tbody tr th {\n",
       "        vertical-align: top;\n",
       "    }\n",
       "\n",
       "    .dataframe thead th {\n",
       "        text-align: right;\n",
       "    }\n",
       "</style>\n",
       "<table border=\"1\" class=\"dataframe\">\n",
       "  <thead>\n",
       "    <tr style=\"text-align: right;\">\n",
       "      <th></th>\n",
       "      <th>id</th>\n",
       "      <th>sex</th>\n",
       "      <th>Testing</th>\n",
       "      <th>Value</th>\n",
       "    </tr>\n",
       "  </thead>\n",
       "  <tbody>\n",
       "    <tr>\n",
       "      <th>0</th>\n",
       "      <td>1</td>\n",
       "      <td>Male</td>\n",
       "      <td>pretest</td>\n",
       "      <td>21</td>\n",
       "    </tr>\n",
       "    <tr>\n",
       "      <th>1</th>\n",
       "      <td>2</td>\n",
       "      <td>Male</td>\n",
       "      <td>pretest</td>\n",
       "      <td>8</td>\n",
       "    </tr>\n",
       "    <tr>\n",
       "      <th>2</th>\n",
       "      <td>3</td>\n",
       "      <td>Female</td>\n",
       "      <td>pretest</td>\n",
       "      <td>20</td>\n",
       "    </tr>\n",
       "    <tr>\n",
       "      <th>3</th>\n",
       "      <td>4</td>\n",
       "      <td>Male</td>\n",
       "      <td>pretest</td>\n",
       "      <td>18</td>\n",
       "    </tr>\n",
       "    <tr>\n",
       "      <th>4</th>\n",
       "      <td>5</td>\n",
       "      <td>Female</td>\n",
       "      <td>pretest</td>\n",
       "      <td>19</td>\n",
       "    </tr>\n",
       "  </tbody>\n",
       "</table>\n",
       "</div>"
      ],
      "text/plain": [
       "   id     sex  Testing  Value\n",
       "0   1    Male  pretest     21\n",
       "1   2    Male  pretest      8\n",
       "2   3  Female  pretest     20\n",
       "3   4    Male  pretest     18\n",
       "4   5  Female  pretest     19"
      ]
     },
     "execution_count": 22,
     "metadata": {},
     "output_type": "execute_result"
    }
   ],
   "source": [
    "pre_post_score = pd.read_excel('paired-t-test two sample.xlsx', sheet_name='ตาราง C', skiprows=1)\n",
    "pre_post_score.drop('Unnamed: 0', axis=1, inplace=True)\n",
    "pre_post_score['sex'].replace(to_replace=['ชาย', 'หญิง'], value=['Male', 'Female'], inplace=True)\n",
    "\n",
    "# For Visualization\n",
    "pre_post_score_viz = pd.melt(pre_post_score[['id', 'sex', 'pretest', 'posttest']],\n",
    "                         id_vars=['id', 'sex'],\n",
    "                         value_name='Value',\n",
    "                         var_name='Testing')\n",
    "pre_post_score_viz.head()"
   ]
  },
  {
   "cell_type": "code",
   "execution_count": 23,
   "metadata": {
    "scrolled": false
   },
   "outputs": [
    {
     "data": {
      "text/plain": [
       "<matplotlib.axes._subplots.AxesSubplot at 0x22af8836128>"
      ]
     },
     "execution_count": 23,
     "metadata": {},
     "output_type": "execute_result"
    },
    {
     "data": {
      "image/png": "[encoded data removed]",
      "text/plain": [
       "<Figure size 432x288 with 1 Axes>"
      ]
     },
     "metadata": {
      "needs_background": "light"
     },
     "output_type": "display_data"
    }
   ],
   "source": [
    "sns.boxplot(data=pre_post_score_viz, x='Testing', y='Value')"
   ]
  },
  {
   "cell_type": "code",
   "execution_count": 24,
   "metadata": {},
   "outputs": [
    {
     "name": "stdout",
     "output_type": "stream",
     "text": [
      "Mode: 18\n",
      "Mean: 13.52\n",
      "Median: 13.0\n"
     ]
    },
    {
     "data": {
      "image/png": "[encoded data removed]",
      "text/plain": [
       "<Figure size 432x288 with 1 Axes>"
      ]
     },
     "metadata": {
      "needs_background": "light"
     },
     "output_type": "display_data"
    },
    {
     "name": "stdout",
     "output_type": "stream",
     "text": [
      "Mode: 29\n",
      "Mean: 31.56\n",
      "Median: 31.0\n"
     ]
    },
    {
     "data": {
      "image/png": "[encoded data removed]",
      "text/plain": [
       "<Figure size 432x288 with 1 Axes>"
      ]
     },
     "metadata": {
      "needs_background": "light"
     },
     "output_type": "display_data"
    }
   ],
   "source": [
    "Distribution_plot(pre_post_score_viz[pre_post_score_viz['Testing'] == 'pretest']['Value'], 'Pre-Test');\n",
    "Distribution_plot(pre_post_score_viz[pre_post_score_viz['Testing'] == 'posttest']['Value'], 'Post-Test');"
   ]
  },
  {
   "cell_type": "code",
   "execution_count": 25,
   "metadata": {},
   "outputs": [],
   "source": [
    "# Create Paired T-Test two sample\n",
    "def T_test_rel(x1, x2, type_test, stats_test):\n",
    "    paired_t, pval = stats.ttest_rel(x1, x2)\n",
    "    \n",
    "    pval_two = pval\n",
    "    pval_one = pval/2\n",
    "    dof = x1.size-1\n",
    "    tcrit = stats.t.ppf(0.05, dof)\n",
    "    \n",
    "    \n",
    "    print('===================================================[Degree of freedom]===========================================')\n",
    "    print('Degree of freedom: ', dof)\n",
    "    \n",
    "    print('========================================================[T-Test]=================================================')\n",
    "    \n",
    "    types_test = {'left':tcrit, 'right': abs(float(tcrit)), 'two_side': abs(float(tcrit))}\n",
    "    \n",
    "    t_crits = types_test[stats_test]        \n",
    "    print('T-Test: ', float(paired_t))\n",
    "    print('T-Critical: ', float(t_crits))\n",
    "    \n",
    "    if stats_test == 'left':\n",
    "        left_test = {'left':[print(\"Reject Null Hypothesis(H0)\") \n",
    "                             if paired_t < t_crits else print(\"Accept Null Hypothesis(H0)\")]} \n",
    "    else:\n",
    "        right_test = {'right':[print(\"Reject Null Hypothesis(H0)\") \n",
    "                               if paired_t > t_crits else print(\"Accept Null Hypothesis(H0)\")]}    \n",
    "        \n",
    "   \n",
    "    print('========================================================[P-Value]================================================')\n",
    "    print('P-Value(one-tail): ', float(pval_one))\n",
    "    print('P-Value(two-tail): ', float(pval_two))\n",
    "    \n",
    "    ptest = {'unequal':pval_one, 'equal':pval_two}\n",
    "    if type_test in ptest:\n",
    "        pvale = ptest[type_test]\n",
    "        if pval < 0.05:\n",
    "            print(\"Reject Null Hypothesis(H0)\")\n",
    "        else:\n",
    "            print(\"Accept Null Hypothesis(H0)\")\n",
    "            "
   ]
  },
  {
   "cell_type": "code",
   "execution_count": 26,
   "metadata": {
    "scrolled": true
   },
   "outputs": [
    {
     "name": "stdout",
     "output_type": "stream",
     "text": [
      "===================================================[Degree of freedom]===========================================\n",
      "Degree of freedom:  99\n",
      "========================================================[T-Test]=================================================\n",
      "T-Test:  -32.32274320244433\n",
      "T-Critical:  -1.6603911559963902\n",
      "Reject Null Hypothesis(H0)\n",
      "========================================================[P-Value]================================================\n",
      "P-Value(one-tail):  1.0414008578963889e-54\n",
      "P-Value(two-tail):  2.0828017157927778e-54\n",
      "Reject Null Hypothesis(H0)\n"
     ]
    }
   ],
   "source": [
    "T_test_rel(pre_post_score['pretest'], pre_post_score['posttest'], type_test='unequal', stats_test='left' )"
   ]
  },
  {
   "cell_type": "markdown",
   "metadata": {},
   "source": [
    "### Conclusion\n",
    "Question : Students' Per-test scores < Students' Post-test scores ?\n",
    "- Reject Null Hypothesis(H0) >>> Students' Per-test scores < Students' Post-test scores (H1)"
   ]
  },
  {
   "cell_type": "markdown",
   "metadata": {},
   "source": [
    "----"
   ]
  },
  {
   "cell_type": "markdown",
   "metadata": {},
   "source": [
    "## Ex2: Before Training Scores < After Training Scores ?\n",
    "\n",
    "- $$H_0 : Before Training Scores >= After Training Scores(\\mu_2)$$\n",
    "- $$H_1 :  Before Training Scores(\\mu_1) < After Training Scores(\\mu_2)$$"
   ]
  },
  {
   "cell_type": "code",
   "execution_count": 27,
   "metadata": {
    "scrolled": true
   },
   "outputs": [
    {
     "data": {
      "text/html": [
       "<div>\n",
       "<style scoped>\n",
       "    .dataframe tbody tr th:only-of-type {\n",
       "        vertical-align: middle;\n",
       "    }\n",
       "\n",
       "    .dataframe tbody tr th {\n",
       "        vertical-align: top;\n",
       "    }\n",
       "\n",
       "    .dataframe thead th {\n",
       "        text-align: right;\n",
       "    }\n",
       "</style>\n",
       "<table border=\"1\" class=\"dataframe\">\n",
       "  <thead>\n",
       "    <tr style=\"text-align: right;\">\n",
       "      <th></th>\n",
       "      <th>id</th>\n",
       "      <th>BeforeTra</th>\n",
       "      <th>AfterTra</th>\n",
       "    </tr>\n",
       "  </thead>\n",
       "  <tbody>\n",
       "    <tr>\n",
       "      <th>0</th>\n",
       "      <td>1</td>\n",
       "      <td>3</td>\n",
       "      <td>5</td>\n",
       "    </tr>\n",
       "    <tr>\n",
       "      <th>1</th>\n",
       "      <td>2</td>\n",
       "      <td>4</td>\n",
       "      <td>7</td>\n",
       "    </tr>\n",
       "    <tr>\n",
       "      <th>2</th>\n",
       "      <td>3</td>\n",
       "      <td>6</td>\n",
       "      <td>5</td>\n",
       "    </tr>\n",
       "    <tr>\n",
       "      <th>3</th>\n",
       "      <td>4</td>\n",
       "      <td>5</td>\n",
       "      <td>5</td>\n",
       "    </tr>\n",
       "    <tr>\n",
       "      <th>4</th>\n",
       "      <td>5</td>\n",
       "      <td>4</td>\n",
       "      <td>6</td>\n",
       "    </tr>\n",
       "  </tbody>\n",
       "</table>\n",
       "</div>"
      ],
      "text/plain": [
       "   id  BeforeTra  AfterTra\n",
       "0   1          3         5\n",
       "1   2          4         7\n",
       "2   3          6         5\n",
       "3   4          5         5\n",
       "4   5          4         6"
      ]
     },
     "execution_count": 27,
     "metadata": {},
     "output_type": "execute_result"
    }
   ],
   "source": [
    "pre_post = pd.read_csv('pairTtest.csv')\n",
    "pre_post.head()"
   ]
  },
  {
   "cell_type": "code",
   "execution_count": 28,
   "metadata": {},
   "outputs": [
    {
     "data": {
      "text/html": [
       "<div>\n",
       "<style scoped>\n",
       "    .dataframe tbody tr th:only-of-type {\n",
       "        vertical-align: middle;\n",
       "    }\n",
       "\n",
       "    .dataframe tbody tr th {\n",
       "        vertical-align: top;\n",
       "    }\n",
       "\n",
       "    .dataframe thead th {\n",
       "        text-align: right;\n",
       "    }\n",
       "</style>\n",
       "<table border=\"1\" class=\"dataframe\">\n",
       "  <thead>\n",
       "    <tr style=\"text-align: right;\">\n",
       "      <th></th>\n",
       "      <th>id</th>\n",
       "      <th>Testing</th>\n",
       "      <th>Value</th>\n",
       "    </tr>\n",
       "  </thead>\n",
       "  <tbody>\n",
       "    <tr>\n",
       "      <th>0</th>\n",
       "      <td>1</td>\n",
       "      <td>BeforeTra</td>\n",
       "      <td>3</td>\n",
       "    </tr>\n",
       "    <tr>\n",
       "      <th>1</th>\n",
       "      <td>2</td>\n",
       "      <td>BeforeTra</td>\n",
       "      <td>4</td>\n",
       "    </tr>\n",
       "    <tr>\n",
       "      <th>2</th>\n",
       "      <td>3</td>\n",
       "      <td>BeforeTra</td>\n",
       "      <td>6</td>\n",
       "    </tr>\n",
       "    <tr>\n",
       "      <th>3</th>\n",
       "      <td>4</td>\n",
       "      <td>BeforeTra</td>\n",
       "      <td>5</td>\n",
       "    </tr>\n",
       "    <tr>\n",
       "      <th>4</th>\n",
       "      <td>5</td>\n",
       "      <td>BeforeTra</td>\n",
       "      <td>4</td>\n",
       "    </tr>\n",
       "  </tbody>\n",
       "</table>\n",
       "</div>"
      ],
      "text/plain": [
       "   id    Testing  Value\n",
       "0   1  BeforeTra      3\n",
       "1   2  BeforeTra      4\n",
       "2   3  BeforeTra      6\n",
       "3   4  BeforeTra      5\n",
       "4   5  BeforeTra      4"
      ]
     },
     "execution_count": 28,
     "metadata": {},
     "output_type": "execute_result"
    }
   ],
   "source": [
    "pre_post_viz = pd.melt(pre_post,\n",
    "                      id_vars='id',\n",
    "                      var_name='Testing',\n",
    "                      value_name='Value')\n",
    "pre_post_viz.head()"
   ]
  },
  {
   "cell_type": "code",
   "execution_count": 29,
   "metadata": {
    "scrolled": false
   },
   "outputs": [
    {
     "data": {
      "text/plain": [
       "<matplotlib.axes._subplots.AxesSubplot at 0x22af87c8a58>"
      ]
     },
     "execution_count": 29,
     "metadata": {},
     "output_type": "execute_result"
    },
    {
     "data": {
      "image/png": "[encoded data removed]",
      "text/plain": [
       "<Figure size 432x288 with 1 Axes>"
      ]
     },
     "metadata": {
      "needs_background": "light"
     },
     "output_type": "display_data"
    }
   ],
   "source": [
    "sns.boxplot(data=pre_post_viz, x='Testing', y='Value')"
   ]
  },
  {
   "cell_type": "code",
   "execution_count": 30,
   "metadata": {},
   "outputs": [
    {
     "name": "stdout",
     "output_type": "stream",
     "text": [
      "Mode: 5\n",
      "Mean: 5.84\n",
      "Median: 6.0\n"
     ]
    },
    {
     "data": {
      "image/png": "[encoded data removed]",
      "text/plain": [
       "<Figure size 432x288 with 1 Axes>"
      ]
     },
     "metadata": {
      "needs_background": "light"
     },
     "output_type": "display_data"
    }
   ],
   "source": [
    "Distribution_plot(pre_post['AfterTra'], 'Before')"
   ]
  },
  {
   "cell_type": "code",
   "execution_count": 31,
   "metadata": {
    "scrolled": false
   },
   "outputs": [
    {
     "name": "stdout",
     "output_type": "stream",
     "text": [
      "===================================================[Degree of freedom]===========================================\n",
      "Degree of freedom:  24\n",
      "========================================================[T-Test]=================================================\n",
      "T-Test:  -5.432350912140854\n",
      "T-Critical:  -1.7108820799094282\n",
      "Reject Null Hypothesis(H0)\n",
      "========================================================[P-Value]================================================\n",
      "P-Value(one-tail):  6.983353046385384e-06\n",
      "P-Value(two-tail):  1.3966706092770768e-05\n",
      "Reject Null Hypothesis(H0)\n"
     ]
    }
   ],
   "source": [
    "T_test_rel(pre_post['BeforeTra'], pre_post['AfterTra'], type_test='unequal', stats_test='left')"
   ]
  },
  {
   "cell_type": "markdown",
   "metadata": {},
   "source": [
    "### Conclusion\n",
    "Question : Before Training Scores < After Training Scores ?\n",
    "- Reject Null Hypothesis(H0) >>> Before Training Scores < After Training Scores (H1)"
   ]
  },
  {
   "cell_type": "markdown",
   "metadata": {},
   "source": [
    "----"
   ]
  }
 ],
 "metadata": {
  "kernelspec": {
   "display_name": "Python 3",
   "language": "python",
   "name": "python3"
  },
  "language_info": {
   "codemirror_mode": {
    "name": "ipython",
    "version": 3
   },
   "file_extension": ".py",
   "mimetype": "text/x-python",
   "name": "python",
   "nbconvert_exporter": "python",
   "pygments_lexer": "ipython3",
   "version": "3.6.7"
  }
 },
 "nbformat": 4,
 "nbformat_minor": 2
}
